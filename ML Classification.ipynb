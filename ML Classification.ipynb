{
 "metadata": {
  "name": ""
 },
 "nbformat": 3,
 "nbformat_minor": 0,
 "worksheets": [
  {
   "cells": [
    {
     "cell_type": "code",
     "collapsed": false,
     "input": [
      "import numpy as np\n",
      "import pylab as pl\n",
      "import scipy"
     ],
     "language": "python",
     "metadata": {},
     "outputs": [
      {
       "ename": "ImportError",
       "evalue": "No module named scipy",
       "output_type": "pyerr",
       "traceback": [
        "\u001b[0;31m---------------------------------------------------------------------------\u001b[0m\n\u001b[0;31mImportError\u001b[0m                               Traceback (most recent call last)",
        "\u001b[0;32m<ipython-input-4-af503866843d>\u001b[0m in \u001b[0;36m<module>\u001b[0;34m()\u001b[0m\n\u001b[1;32m      1\u001b[0m \u001b[0;32mimport\u001b[0m \u001b[0mnumpy\u001b[0m \u001b[0;32mas\u001b[0m \u001b[0mnp\u001b[0m\u001b[0;34m\u001b[0m\u001b[0m\n\u001b[1;32m      2\u001b[0m \u001b[0;32mimport\u001b[0m \u001b[0mpylab\u001b[0m \u001b[0;32mas\u001b[0m \u001b[0mpl\u001b[0m\u001b[0;34m\u001b[0m\u001b[0m\n\u001b[0;32m----> 3\u001b[0;31m \u001b[0;32mimport\u001b[0m \u001b[0mscipy\u001b[0m\u001b[0;34m\u001b[0m\u001b[0m\n\u001b[0m",
        "\u001b[0;31mImportError\u001b[0m: No module named scipy"
       ]
      }
     ],
     "prompt_number": 4
    },
    {
     "cell_type": "code",
     "collapsed": false,
     "input": [
      "from sklearn import tree\n",
      "X = [[0, 0], [1, 1]]\n",
      "Y = [0, 1]\n",
      "clf = tree.DecisionTreeClassifier()\n",
      "clf = clf.fit(X, Y)"
     ],
     "language": "python",
     "metadata": {},
     "outputs": [
      {
       "ename": "ImportError",
       "evalue": "No module named scipy",
       "output_type": "pyerr",
       "traceback": [
        "\u001b[0;31m---------------------------------------------------------------------------\u001b[0m\n\u001b[0;31mImportError\u001b[0m                               Traceback (most recent call last)",
        "\u001b[0;32m<ipython-input-3-2856b1cd3349>\u001b[0m in \u001b[0;36m<module>\u001b[0;34m()\u001b[0m\n\u001b[0;32m----> 1\u001b[0;31m \u001b[0;32mfrom\u001b[0m \u001b[0msklearn\u001b[0m \u001b[0;32mimport\u001b[0m \u001b[0mtree\u001b[0m\u001b[0;34m\u001b[0m\u001b[0m\n\u001b[0m\u001b[1;32m      2\u001b[0m \u001b[0mX\u001b[0m \u001b[0;34m=\u001b[0m \u001b[0;34m[\u001b[0m\u001b[0;34m[\u001b[0m\u001b[0;36m0\u001b[0m\u001b[0;34m,\u001b[0m \u001b[0;36m0\u001b[0m\u001b[0;34m]\u001b[0m\u001b[0;34m,\u001b[0m \u001b[0;34m[\u001b[0m\u001b[0;36m1\u001b[0m\u001b[0;34m,\u001b[0m \u001b[0;36m1\u001b[0m\u001b[0;34m]\u001b[0m\u001b[0;34m]\u001b[0m\u001b[0;34m\u001b[0m\u001b[0m\n\u001b[1;32m      3\u001b[0m \u001b[0mY\u001b[0m \u001b[0;34m=\u001b[0m \u001b[0;34m[\u001b[0m\u001b[0;36m0\u001b[0m\u001b[0;34m,\u001b[0m \u001b[0;36m1\u001b[0m\u001b[0;34m]\u001b[0m\u001b[0;34m\u001b[0m\u001b[0m\n\u001b[1;32m      4\u001b[0m \u001b[0mclf\u001b[0m \u001b[0;34m=\u001b[0m \u001b[0mtree\u001b[0m\u001b[0;34m.\u001b[0m\u001b[0mDecisionTreeClassifier\u001b[0m\u001b[0;34m(\u001b[0m\u001b[0;34m)\u001b[0m\u001b[0;34m\u001b[0m\u001b[0m\n\u001b[1;32m      5\u001b[0m \u001b[0mclf\u001b[0m \u001b[0;34m=\u001b[0m \u001b[0mclf\u001b[0m\u001b[0;34m.\u001b[0m\u001b[0mfit\u001b[0m\u001b[0;34m(\u001b[0m\u001b[0mX\u001b[0m\u001b[0;34m,\u001b[0m \u001b[0mY\u001b[0m\u001b[0;34m)\u001b[0m\u001b[0;34m\u001b[0m\u001b[0m\n",
        "\u001b[0;32m/Library/Python/2.7/site-packages/sklearn/__init__.py\u001b[0m in \u001b[0;36m<module>\u001b[0;34m()\u001b[0m\n\u001b[1;32m     30\u001b[0m \u001b[0;32melse\u001b[0m\u001b[0;34m:\u001b[0m\u001b[0;34m\u001b[0m\u001b[0m\n\u001b[1;32m     31\u001b[0m     \u001b[0;32mfrom\u001b[0m \u001b[0;34m.\u001b[0m \u001b[0;32mimport\u001b[0m \u001b[0m__check_build\u001b[0m\u001b[0;34m\u001b[0m\u001b[0m\n\u001b[0;32m---> 32\u001b[0;31m     \u001b[0;32mfrom\u001b[0m \u001b[0;34m.\u001b[0m\u001b[0mbase\u001b[0m \u001b[0;32mimport\u001b[0m \u001b[0mclone\u001b[0m\u001b[0;34m\u001b[0m\u001b[0m\n\u001b[0m\u001b[1;32m     33\u001b[0m \u001b[0;34m\u001b[0m\u001b[0m\n\u001b[1;32m     34\u001b[0m     \u001b[0;32mdef\u001b[0m \u001b[0mtest\u001b[0m\u001b[0;34m(\u001b[0m\u001b[0;34m*\u001b[0m\u001b[0margs\u001b[0m\u001b[0;34m,\u001b[0m \u001b[0;34m**\u001b[0m\u001b[0mkwargs\u001b[0m\u001b[0;34m)\u001b[0m\u001b[0;34m:\u001b[0m\u001b[0;34m\u001b[0m\u001b[0m\n",
        "\u001b[0;32m/Library/Python/2.7/site-packages/sklearn/base.py\u001b[0m in \u001b[0;36m<module>\u001b[0;34m()\u001b[0m\n\u001b[1;32m      8\u001b[0m \u001b[0;34m\u001b[0m\u001b[0m\n\u001b[1;32m      9\u001b[0m \u001b[0;32mimport\u001b[0m \u001b[0mnumpy\u001b[0m \u001b[0;32mas\u001b[0m \u001b[0mnp\u001b[0m\u001b[0;34m\u001b[0m\u001b[0m\n\u001b[0;32m---> 10\u001b[0;31m \u001b[0;32mfrom\u001b[0m \u001b[0mscipy\u001b[0m \u001b[0;32mimport\u001b[0m \u001b[0msparse\u001b[0m\u001b[0;34m\u001b[0m\u001b[0m\n\u001b[0m\u001b[1;32m     11\u001b[0m \u001b[0;32mfrom\u001b[0m \u001b[0;34m.\u001b[0m\u001b[0mexternals\u001b[0m \u001b[0;32mimport\u001b[0m \u001b[0msix\u001b[0m\u001b[0;34m\u001b[0m\u001b[0m\n\u001b[1;32m     12\u001b[0m \u001b[0;34m\u001b[0m\u001b[0m\n",
        "\u001b[0;31mImportError\u001b[0m: No module named scipy"
       ]
      }
     ],
     "prompt_number": 3
    },
    {
     "cell_type": "code",
     "collapsed": false,
     "input": [
      "clf"
     ],
     "language": "python",
     "metadata": {},
     "outputs": []
    },
    {
     "cell_type": "code",
     "collapsed": false,
     "input": [
      "clf.predict([[0., 2.]])"
     ],
     "language": "python",
     "metadata": {},
     "outputs": []
    },
    {
     "cell_type": "code",
     "collapsed": false,
     "input": [
      "import StringIO, pydot \n",
      "dot_data = StringIO.StringIO() \n",
      "tree.export_graphviz(clf, out_file=dot_data) \n",
      "graph = pydot.graph_from_dot_data(dot_data.getvalue()) \n",
      "graph.write_pdf(\"iris.pdf\") "
     ],
     "language": "python",
     "metadata": {},
     "outputs": []
    },
    {
     "cell_type": "code",
     "collapsed": false,
     "input": [
      "from sklearn import datasets"
     ],
     "language": "python",
     "metadata": {},
     "outputs": [
      {
       "ename": "ImportError",
       "evalue": "No module named sklearn",
       "output_type": "pyerr",
       "traceback": [
        "\u001b[0;31m---------------------------------------------------------------------------\u001b[0m\n\u001b[0;31mImportError\u001b[0m                               Traceback (most recent call last)",
        "\u001b[0;32m<ipython-input-1-9123d5038a5c>\u001b[0m in \u001b[0;36m<module>\u001b[0;34m()\u001b[0m\n\u001b[0;32m----> 1\u001b[0;31m \u001b[0;32mfrom\u001b[0m \u001b[0msklearn\u001b[0m \u001b[0;32mimport\u001b[0m \u001b[0mdatasets\u001b[0m\u001b[0;34m\u001b[0m\u001b[0m\n\u001b[0m",
        "\u001b[0;31mImportError\u001b[0m: No module named sklearn"
       ]
      }
     ],
     "prompt_number": 1
    },
    {
     "cell_type": "code",
     "collapsed": false,
     "input": [
      "# import some data to play with\n",
      "iris = datasets.load_iris()\n",
      "X = iris.data[:, :2]  # we only take the first two features.\n",
      "Y = iris.target"
     ],
     "language": "python",
     "metadata": {},
     "outputs": []
    },
    {
     "cell_type": "code",
     "collapsed": false,
     "input": [
      "iris.target"
     ],
     "language": "python",
     "metadata": {},
     "outputs": []
    },
    {
     "cell_type": "code",
     "collapsed": true,
     "input": [
      "X"
     ],
     "language": "python",
     "metadata": {},
     "outputs": []
    },
    {
     "cell_type": "code",
     "collapsed": false,
     "input": [
      "Y"
     ],
     "language": "python",
     "metadata": {},
     "outputs": []
    },
    {
     "cell_type": "code",
     "collapsed": false,
     "input": [
      "from sklearn.tree import DecisionTreeClassifier"
     ],
     "language": "python",
     "metadata": {},
     "outputs": []
    },
    {
     "cell_type": "code",
     "collapsed": false,
     "input": [
      "# Parameters\n",
      "n_classes = 3\n",
      "plot_colors = \"bry\"\n",
      "plot_step = 0.02\n",
      "\n",
      "for pairidx, pair in enumerate([[0, 1], [0, 2], [0, 3],\n",
      "                                [1, 2], [1, 3], [2, 3]]):\n",
      "     # We only take the two corresponding features\n",
      "    X = iris.data[:, pair]\n",
      "    y = iris.target\n",
      "\n",
      "    # Shuffle\n",
      "    idx = np.arange(X.shape[0])\n",
      "    np.random.seed(13)\n",
      "    np.random.shuffle(idx)\n",
      "    X = X[idx]\n",
      "    y = y[idx]\n",
      "\n",
      "    # Standardize\n",
      "    mean = X.mean(axis=0)\n",
      "    std = X.std(axis=0)\n",
      "    X = (X - mean) / std\n",
      "\n",
      "    # Train\n",
      "    clf = DecisionTreeClassifier().fit(X, y)\n",
      "\n",
      "    # Plot the decision boundary\n",
      "    pl.subplot(2, 3, pairidx + 1)\n",
      "\n",
      "    x_min, x_max = X[:, 0].min() - 1, X[:, 0].max() + 1\n",
      "    y_min, y_max = X[:, 1].min() - 1, X[:, 1].max() + 1\n",
      "    xx, yy = np.meshgrid(np.arange(x_min, x_max, plot_step),\n",
      "                         np.arange(y_min, y_max, plot_step))\n",
      "\n",
      "    Z = clf.predict(np.c_[xx.ravel(), yy.ravel()])\n",
      "    Z = Z.reshape(xx.shape)\n",
      "    cs = pl.contourf(xx, yy, Z, cmap=pl.cm.Paired)\n",
      "\n",
      "    pl.xlabel(iris.feature_names[pair[0]])\n",
      "    pl.ylabel(iris.feature_names[pair[1]])\n",
      "    pl.axis(\"tight\")\n",
      "\n",
      "    # Plot the training points\n",
      "    for i, color in zip(xrange(n_classes), plot_colors):\n",
      "        idx = np.where(y == i)\n",
      "        pl.scatter(X[idx, 0], X[idx, 1], c=color, label=iris.target_names[i],\n",
      "                   cmap=pl.cm.Paired)\n",
      "\n",
      "    pl.axis(\"tight\")\n",
      "\n",
      "pl.suptitle(\"Decision surface of a decision tree using paired features\")\n",
      "pl.legend()\n",
      "pl.show()"
     ],
     "language": "python",
     "metadata": {},
     "outputs": []
    },
    {
     "cell_type": "code",
     "collapsed": false,
     "input": [
      "from sklearn.utils import shuffle\n",
      "from sklearn.metrics import roc_curve, auc"
     ],
     "language": "python",
     "metadata": {},
     "outputs": []
    },
    {
     "cell_type": "code",
     "collapsed": false,
     "input": [
      "# shuffle and split training and test sets\n",
      "X, y = shuffle(X, y, random_state=random_state)\n",
      "half = int(n_samples / 2)\n",
      "X_train, X_test = X[:half], X[half:]\n",
      "y_train, y_test = y[:half], y[half:]\n",
      "\n",
      "# Run classifier\n",
      "classifier = svm.SVC(kernel='linear', probability=True)\n",
      "probas_ = classifier.fit(X_train, y_train).predict_proba(X_test)\n",
      "\n",
      "# Compute ROC curve and area the curve\n",
      "fpr, tpr, thresholds = roc_curve(y_test, probas_[:, 1])\n",
      "roc_auc = auc(fpr, tpr)\n",
      "print \"Area under the ROC curve : %f\" % roc_auc\n",
      "\n",
      "# Plot ROC curve\n",
      "pl.clf()\n",
      "pl.plot(fpr, tpr, label='ROC curve (area = %0.2f)' % roc_auc)\n",
      "pl.plot([0, 1], [0, 1], 'k--')\n",
      "pl.xlim([0.0, 1.0])\n",
      "pl.ylim([0.0, 1.0])\n",
      "pl.xlabel('False Positive Rate')\n",
      "pl.ylabel('True Positive Rate')\n",
      "pl.title('Receiver operating characteristic example')\n",
      "pl.legend(loc=\"lower right\")\n",
      "pl.show()"
     ],
     "language": "python",
     "metadata": {},
     "outputs": []
    },
    {
     "cell_type": "code",
     "collapsed": false,
     "input": [
      "from sklearn import linear_model"
     ],
     "language": "python",
     "metadata": {},
     "outputs": []
    },
    {
     "cell_type": "code",
     "collapsed": false,
     "input": [
      "h = .02  # step size in the mesh\n",
      "\n",
      "logreg = linear_model.LogisticRegression(C=1e5)\n",
      "\n",
      "# we create an instance of Neighbours Classifier and fit the data.\n",
      "logreg.fit(X, Y)"
     ],
     "language": "python",
     "metadata": {},
     "outputs": []
    },
    {
     "cell_type": "code",
     "collapsed": false,
     "input": [
      "# Plot the decision boundary. For that, we will asign a color to each\n",
      "# point in the mesh [x_min, m_max]x[y_min, y_max].\n",
      "x_min, x_max = X[:, 0].min() - .5, X[:, 0].max() + .5\n",
      "y_min, y_max = X[:, 1].min() - .5, X[:, 1].max() + .5\n",
      "xx, yy = np.meshgrid(np.arange(x_min, x_max, h), np.arange(y_min, y_max, h))\n",
      "Z = logreg.predict(np.c_[xx.ravel(), yy.ravel()])\n",
      "\n",
      "# Put the result into a color plot\n",
      "Z = Z.reshape(xx.shape)\n",
      "pl.figure(1, figsize=(4, 3))\n",
      "pl.pcolormesh(xx, yy, Z, cmap=pl.cm.Paired)\n",
      "\n",
      "# Plot also the training points\n",
      "pl.scatter(X[:, 0], X[:, 1], c=Y, edgecolors='k', cmap=pl.cm.Paired)\n",
      "pl.xlabel('Sepal length')\n",
      "pl.ylabel('Sepal width')\n",
      "\n",
      "pl.xlim(xx.min(), xx.max())\n",
      "pl.ylim(yy.min(), yy.max())\n",
      "pl.xticks(())\n",
      "pl.yticks(())\n",
      "\n",
      "pl.show()"
     ],
     "language": "python",
     "metadata": {},
     "outputs": []
    },
    {
     "cell_type": "code",
     "collapsed": false,
     "input": [
      "from sklearn import svm"
     ],
     "language": "python",
     "metadata": {},
     "outputs": []
    },
    {
     "cell_type": "code",
     "collapsed": false,
     "input": [
      "# we create 40 separable points\n",
      "rng = np.random.RandomState(0)\n",
      "n_samples_1 = 1000\n",
      "n_samples_2 = 100\n",
      "X = np.r_[1.5 * rng.randn(n_samples_1, 2),\n",
      "          0.5 * rng.randn(n_samples_2, 2) + [2, 2]]\n",
      "y = [0] * (n_samples_1) + [1] * (n_samples_2)"
     ],
     "language": "python",
     "metadata": {},
     "outputs": []
    },
    {
     "cell_type": "code",
     "collapsed": true,
     "input": [
      "X"
     ],
     "language": "python",
     "metadata": {},
     "outputs": []
    },
    {
     "cell_type": "code",
     "collapsed": false,
     "input": [
      "# fit the model\n",
      "clf = svm.SVC(kernel='linear')\n",
      "clf.fit(X, Y)\n",
      "\n",
      "# get the separating hyperplane\n",
      "w = clf.coef_[0]\n",
      "a = -w[0] / w[1]\n",
      "xx = np.linspace(-5, 5)\n",
      "yy = a * xx - (clf.intercept_[0]) / w[1]\n",
      "\n",
      "# plot the parallels to the separating hyperplane that pass through the\n",
      "# support vectors\n",
      "b = clf.support_vectors_[0]\n",
      "yy_down = a * xx + (b[1] - a * b[0])\n",
      "b = clf.support_vectors_[-1]\n",
      "yy_up = a * xx + (b[1] - a * b[0])\n",
      "\n",
      "# plot the line, the points, and the nearest vectors to the plane\n",
      "pl.plot(xx, yy, 'k-')\n",
      "pl.plot(xx, yy_down, 'k--')\n",
      "pl.plot(xx, yy_up, 'k--')\n",
      "\n",
      "pl.scatter(clf.support_vectors_[:, 0], clf.support_vectors_[:, 1],\n",
      "           s=80, facecolors='none')\n",
      "pl.scatter(X[:, 0], X[:, 1], c=Y, cmap=pl.cm.Paired)\n",
      "\n",
      "pl.axis('tight')\n",
      "pl.show()"
     ],
     "language": "python",
     "metadata": {},
     "outputs": []
    },
    {
     "cell_type": "code",
     "collapsed": false,
     "input": [
      "# fit the model and get the separating hyperplane\n",
      "clf = svm.SVC(kernel='linear', C=1.0)\n",
      "clf.fit(X, y)\n",
      "\n",
      "w = clf.coef_[0]\n",
      "a = -w[0] / w[1]\n",
      "xx = np.linspace(-5, 5)\n",
      "yy = a * xx - clf.intercept_[0] / w[1]\n",
      "\n",
      "\n",
      "# get the separating hyperplane using weighted classes\n",
      "wclf = svm.SVC(kernel='linear', class_weight={1: 10})\n",
      "wclf.fit(X, y)\n",
      "\n",
      "ww = wclf.coef_[0]\n",
      "wa = -ww[0] / ww[1]\n",
      "wyy = wa * xx - wclf.intercept_[0] / ww[1]\n",
      "\n",
      "# plot separating hyperplanes and samples\n",
      "h0 = pl.plot(xx, yy, 'k-', label='no weights')\n",
      "h1 = pl.plot(xx, wyy, 'k--', label='with weights')\n",
      "pl.scatter(X[:, 0], X[:, 1], c=y, cmap=pl.cm.Paired)\n",
      "pl.legend()\n",
      "\n",
      "pl.axis('tight')\n",
      "pl.show()"
     ],
     "language": "python",
     "metadata": {},
     "outputs": []
    },
    {
     "cell_type": "code",
     "collapsed": false,
     "input": [
      "n_features = X.shape[1]\n",
      "\n",
      "C = 1.0\n",
      "\n",
      "# Create different classifiers. The logistic regression cannot do\n",
      "# multiclass out of the box.\n",
      "classifiers = {'L1 logistic': LogisticRegression(C=C, penalty='l1'),\n",
      "               'L2 logistic': LogisticRegression(C=C, penalty='l2'),\n",
      "               'Linear SVC': SVC(kernel='linear', C=C, probability=True)}\n",
      "\n",
      "n_classifiers = len(classifiers)\n",
      "\n",
      "pl.figure(figsize=(3 * 2, n_classifiers * 2))\n",
      "pl.subplots_adjust(bottom=.2, top=.95)\n",
      "\n",
      "for index, (name, classifier) in enumerate(classifiers.iteritems()):\n",
      "    classifier.fit(X, y)\n",
      "\n",
      "    y_pred = classifier.predict(X)\n",
      "    classif_rate = np.mean(y_pred.ravel() == y.ravel()) * 100\n",
      "    print(\"classif_rate for %s : %f \" % (name, classif_rate))\n",
      "\n",
      "    # View probabilities=\n",
      "    xx = np.linspace(3, 9, 100)\n",
      "    yy = np.linspace(1, 5, 100).T\n",
      "    xx, yy = np.meshgrid(xx, yy)\n",
      "    Xfull = np.c_[xx.ravel(), yy.ravel()]\n",
      "    probas = classifier.predict_proba(Xfull)\n",
      "    n_classes = np.unique(y_pred).size\n",
      "    for k in range(n_classes):\n",
      "        pl.subplot(n_classifiers, n_classes, index * n_classes + k + 1)\n",
      "        pl.title(\"Class %d\" % k)\n",
      "        if k == 0:\n",
      "            pl.ylabel(name)\n",
      "        imshow_handle = pl.imshow(probas[:, k].reshape((100, 100)),\n",
      "                                  extent=(3, 9, 1, 5), origin='lower')\n",
      "        pl.xticks(())\n",
      "        pl.yticks(())\n",
      "        idx = (y_pred == k)\n",
      "        if idx.any():\n",
      "            pl.scatter(X[idx, 0], X[idx, 1], marker='o', c='k')\n",
      "\n",
      "ax = pl.axes([0.15, 0.04, 0.7, 0.05])\n",
      "pl.title(\"Probability\")\n",
      "pl.colorbar(imshow_handle, cax=ax, orientation='horizontal')\n",
      "\n",
      "pl.show()"
     ],
     "language": "python",
     "metadata": {},
     "outputs": []
    }
   ],
   "metadata": {}
  }
 ]
}
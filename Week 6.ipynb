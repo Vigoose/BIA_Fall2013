{
 "metadata": {
  "name": ""
 },
 "nbformat": 3,
 "nbformat_minor": 0,
 "worksheets": [
  {
   "cells": [
    {
     "cell_type": "heading",
     "level": 2,
     "metadata": {},
     "source": [
      "MySQL"
     ]
    },
    {
     "cell_type": "markdown",
     "metadata": {},
     "source": [
      "install mysql + workbench: http://dev.mysql.com/downloads/mysql/\n",
      "\n",
      "install pymysql: 'sudo pip install pymysql'"
     ]
    },
    {
     "cell_type": "code",
     "collapsed": false,
     "input": [
      "import pymysql\n",
      "\n",
      "dbuser = 'professor'\n",
      "dbpass = 'Business1Q'"
     ],
     "language": "python",
     "metadata": {},
     "outputs": [],
     "prompt_number": 1
    },
    {
     "cell_type": "code",
     "collapsed": false,
     "input": [
      "conn = pymysql.connect(host='localhost', \n",
      "                       user=dbuser, \n",
      "                       passwd=dbpass, \n",
      "                       db='BIA660')"
     ],
     "language": "python",
     "metadata": {},
     "outputs": [],
     "prompt_number": 116
    },
    {
     "cell_type": "code",
     "collapsed": false,
     "input": [
      "cur = conn.cursor()    "
     ],
     "language": "python",
     "metadata": {},
     "outputs": [],
     "prompt_number": 117
    },
    {
     "cell_type": "code",
     "collapsed": false,
     "input": [
      "query = '''CREATE TABLE IF NOT EXISTS tweet (\n",
      "                                id BIGINT UNSIGNED,\n",
      "                                user BIGINT UNSIGNED,\n",
      "                                text VARCHAR(140) CHARACTER SET utf8,\n",
      "                                favorited TINYINT UNSIGNED,\n",
      "                                created DATETIME,\n",
      "                                in_reply_to_user_id BIGINT UNSIGNED,\n",
      "                                in_reply_to_status_id BIGINT UNSIGNED,\n",
      "                                PRIMARY KEY (id)\n",
      "                            )'''"
     ],
     "language": "python",
     "metadata": {},
     "outputs": [],
     "prompt_number": 49
    },
    {
     "cell_type": "code",
     "collapsed": false,
     "input": [
      "cur.execute(query)"
     ],
     "language": "python",
     "metadata": {},
     "outputs": [
      {
       "metadata": {},
       "output_type": "pyout",
       "prompt_number": 50,
       "text": [
        "0"
       ]
      }
     ],
     "prompt_number": 50
    },
    {
     "cell_type": "code",
     "collapsed": false,
     "input": [
      "query = '''CREATE TABLE IF NOT EXISTS user (\n",
      "    id BIGINT UNSIGNED,\n",
      "    name VARCHAR(140) CHARACTER SET utf8,\n",
      "    screen_name VARCHAR(80),\n",
      "    location VARCHAR(140) CHARACTER SET utf8,\n",
      "    time_zone VARCHAR(40),\n",
      "    description TEXT CHARACTER SET utf8,\n",
      "    followers_count BIGINT,\n",
      "    friends_count BIGINT,\n",
      "    tweet_count BIGINT,\n",
      "    updated TIMESTAMP,\n",
      "    PRIMARY KEY (id))'''"
     ],
     "language": "python",
     "metadata": {},
     "outputs": [],
     "prompt_number": 51
    },
    {
     "cell_type": "code",
     "collapsed": false,
     "input": [
      "cur.execute(query)"
     ],
     "language": "python",
     "metadata": {},
     "outputs": [
      {
       "metadata": {},
       "output_type": "pyout",
       "prompt_number": 52,
       "text": [
        "0"
       ]
      }
     ],
     "prompt_number": 52
    },
    {
     "cell_type": "code",
     "collapsed": false,
     "input": [
      "import twitter as tw\n",
      "OAUTH_TOKEN='19202628-uzTh3h9JB6pM07JaB4fqA4oHnWffsd1blEwApA'\n",
      "OAUTH_SECRET='bpP3m3anqew88u3MGAWPqFGElUv5RG4zFkEUDkAD2A'\n",
      "CONSUMER_KEY='HrI9pkJWwsdTL1jv9fDmg'\n",
      "CONSUMER_SECRET='xr0nXTJytnMdN7XIsoUIGNErJ5QuPJYv92VfBJnX8XI'\n",
      "t = tw.Twitter(auth=tw.OAuth(OAUTH_TOKEN, OAUTH_SECRET,\n",
      "                       CONSUMER_KEY, CONSUMER_SECRET))\n",
      "fb_mentions = t.search.tweets(q='@facebook',lang='en',result_type='recent',count=100)\n"
     ],
     "language": "python",
     "metadata": {},
     "outputs": [],
     "prompt_number": 8
    },
    {
     "cell_type": "code",
     "collapsed": false,
     "input": [
      "for status in fb_mentions['statuses']:\n",
      "    user = status['user']\n",
      "    tweet_vals = (status['id'],user['id'],\n",
      "                  status['favorited'], \n",
      "                  status['in_reply_to_user_id'] or 0,\n",
      "                  status['in_reply_to_status_id'] or 0)\n",
      "    user_vals = (user['id'],user['screen_name'],\n",
      "                 user['followers_count'],\n",
      "                 user['friends_count'], user['statuses_count'])\n",
      "    query = u'INSERT INTO tweet VALUES(%d, %d, \"not the tweet\", %d, NULL, %d, %d)' % tweet_vals\n",
      "    cur.execute(query)\n",
      "    is_user = cur.execute(\"SELECT id FROM user WHERE id=%d\" % int(user['id']))\n",
      "    if not is_user:\n",
      "        query = \"INSERT INTO user VALUES(%d,'None','%s','Location','TZ','DESC',%d,%d,%d,NOW())\" % user_vals\n",
      "        cur.execute(query)\n",
      "conn.commit()"
     ],
     "language": "python",
     "metadata": {},
     "outputs": [],
     "prompt_number": 57
    },
    {
     "cell_type": "code",
     "collapsed": false,
     "input": [
      "conn.commit()"
     ],
     "language": "python",
     "metadata": {},
     "outputs": [],
     "prompt_number": 56
    },
    {
     "cell_type": "code",
     "collapsed": false,
     "input": [
      "query = 'SELECT tweet.id FROM tweet JOIN user ON tweet.user=user.id WHERE user.followers_count>100'\n",
      "success = cur.execute(query)\n",
      "tweet_ids = cur.fetchall()\n",
      "for tweet_id in tweet_ids:\n",
      "    print tweet_id\n"
     ],
     "language": "python",
     "metadata": {},
     "outputs": [
      {
       "output_type": "stream",
       "stream": "stdout",
       "text": [
        "(385150972357779456L,)\n",
        "(385151128616599552L,)\n",
        "(385151215358574592L,)\n",
        "(385152001727672320L,)\n",
        "(385152260172681216L,)\n",
        "(385152342267404288L,)\n",
        "(385152982204960768L,)\n",
        "(385153062441975809L,)\n",
        "(385153136966385664L,)\n",
        "(385153427200040960L,)\n",
        "(385153911209734144L,)\n",
        "(385154128751513600L,)\n",
        "(385154879011835904L,)\n",
        "(385154963451551744L,)\n",
        "(385155097514090496L,)\n",
        "(385155145312792577L,)\n",
        "(385156201761095680L,)\n",
        "(385156212070690816L,)\n",
        "(385156624467230720L,)\n",
        "(385157033000833024L,)\n",
        "(385157126785871873L,)\n",
        "(385157200554897409L,)\n",
        "(385157631259586561L,)\n",
        "(385157990405246976L,)\n",
        "(385158418094239744L,)\n",
        "(385158425551704064L,)\n",
        "(385158432048689153L,)\n",
        "(385158829086097408L,)\n",
        "(385158869619851264L,)\n",
        "(385158934014611456L,)\n",
        "(385159054365966336L,)\n",
        "(385159507967352834L,)\n",
        "(385159637281959936L,)\n",
        "(385159647638077440L,)\n",
        "(385159942841176064L,)\n",
        "(385160137985372160L,)\n",
        "(385160485865148416L,)\n",
        "(385160615322345473L,)\n",
        "(385161308292657152L,)\n",
        "(385161662912671744L,)\n",
        "(385161714490429440L,)\n",
        "(385161792529248256L,)\n",
        "(385161819091783681L,)\n",
        "(385162120620687360L,)\n",
        "(385162265454202880L,)\n",
        "(385162535709999104L,)\n",
        "(385162759153135616L,)\n",
        "(385162869722996736L,)\n",
        "(385162965068316672L,)\n",
        "(385163970728177665L,)\n",
        "(385164201339392000L,)\n",
        "(385164679384813568L,)\n",
        "(385165129832476672L,)\n",
        "(385165136715337728L,)\n",
        "(385166067662094336L,)\n",
        "(385166100649873408L,)\n",
        "(385166309694390272L,)\n",
        "(385166382369112064L,)\n",
        "(385167119702163456L,)\n",
        "(385167488885219328L,)\n",
        "(385168128332005376L,)\n",
        "(385168180538535936L,)\n",
        "(385168830038679553L,)\n",
        "(385169296705331200L,)\n",
        "(385169508907753472L,)\n",
        "(385169519628386304L,)\n",
        "(385169733747613697L,)\n",
        "(385170081090895872L,)\n",
        "(385170152645357568L,)\n",
        "(385170178285527040L,)\n",
        "(385170706683535360L,)\n",
        "(385170991443632128L,)\n",
        "(385171456994197505L,)\n",
        "(385171565597310976L,)\n",
        "(385171656278155264L,)\n",
        "(385171701933154304L,)\n",
        "(385171728584155137L,)\n"
       ]
      }
     ],
     "prompt_number": 60
    },
    {
     "cell_type": "code",
     "collapsed": false,
     "input": [
      "cur.close()\n",
      "conn.close()"
     ],
     "language": "python",
     "metadata": {},
     "outputs": [],
     "prompt_number": 61
    },
    {
     "cell_type": "heading",
     "level": 2,
     "metadata": {},
     "source": [
      "MongoDB"
     ]
    },
    {
     "cell_type": "markdown",
     "metadata": {},
     "source": [
      "install MongoDB: http://docs.mongodb.org/manual/installation/\n",
      "\n",
      "'sudo pip install pymongodb'"
     ]
    },
    {
     "cell_type": "code",
     "collapsed": false,
     "input": [
      "from pymongo import MongoClient"
     ],
     "language": "python",
     "metadata": {},
     "outputs": [],
     "prompt_number": 62
    },
    {
     "cell_type": "code",
     "collapsed": false,
     "input": [
      "client = MongoClient()"
     ],
     "language": "python",
     "metadata": {},
     "outputs": [],
     "prompt_number": 63
    },
    {
     "cell_type": "code",
     "collapsed": false,
     "input": [
      "db = client.test_database"
     ],
     "language": "python",
     "metadata": {},
     "outputs": [],
     "prompt_number": 64
    },
    {
     "cell_type": "code",
     "collapsed": false,
     "input": [
      "collection = db.test_collection"
     ],
     "language": "python",
     "metadata": {},
     "outputs": [],
     "prompt_number": 65
    },
    {
     "cell_type": "code",
     "collapsed": false,
     "input": [
      "import datetime\n",
      "datetime.datetime.utcnow()"
     ],
     "language": "python",
     "metadata": {},
     "outputs": [
      {
       "metadata": {},
       "output_type": "pyout",
       "prompt_number": 66,
       "text": [
        "datetime.datetime(2013, 10, 1, 23, 23, 28, 503792)"
       ]
      }
     ],
     "prompt_number": 66
    },
    {
     "cell_type": "code",
     "collapsed": false,
     "input": [
      "post = {\"author\": \"Mike\",\n",
      "        \"text\": \"My first blog post!\",\n",
      "        \"tags\": [\"mongodb\", \"python\", \"pymongo\"],\n",
      "        \"date\": datetime.datetime.utcnow()}"
     ],
     "language": "python",
     "metadata": {},
     "outputs": [],
     "prompt_number": 67
    },
    {
     "cell_type": "code",
     "collapsed": false,
     "input": [
      "posts = db.posts"
     ],
     "language": "python",
     "metadata": {},
     "outputs": [],
     "prompt_number": 68
    },
    {
     "cell_type": "code",
     "collapsed": false,
     "input": [
      "post_id = posts.insert(post)"
     ],
     "language": "python",
     "metadata": {},
     "outputs": [],
     "prompt_number": 69
    },
    {
     "cell_type": "code",
     "collapsed": false,
     "input": [
      "post_id"
     ],
     "language": "python",
     "metadata": {},
     "outputs": [
      {
       "metadata": {},
       "output_type": "pyout",
       "prompt_number": 70,
       "text": [
        "ObjectId('524b59b61df26dd5967091d0')"
       ]
      }
     ],
     "prompt_number": 70
    },
    {
     "cell_type": "code",
     "collapsed": false,
     "input": [
      "db.collection_names()"
     ],
     "language": "python",
     "metadata": {},
     "outputs": [
      {
       "metadata": {},
       "output_type": "pyout",
       "prompt_number": 71,
       "text": [
        "[u'system.indexes', u'posts']"
       ]
      }
     ],
     "prompt_number": 71
    },
    {
     "cell_type": "code",
     "collapsed": false,
     "input": [
      "posts.find_one()"
     ],
     "language": "python",
     "metadata": {},
     "outputs": [
      {
       "metadata": {},
       "output_type": "pyout",
       "prompt_number": 72,
       "text": [
        "{u'_id': ObjectId('524b59b61df26dd5967091d0'),\n",
        " u'author': u'Mike',\n",
        " u'date': datetime.datetime(2013, 10, 1, 23, 23, 52, 658000),\n",
        " u'tags': [u'mongodb', u'python', u'pymongo'],\n",
        " u'text': u'My first blog post!'}"
       ]
      }
     ],
     "prompt_number": 72
    },
    {
     "cell_type": "code",
     "collapsed": false,
     "input": [
      "posts.find_one({\"author\": \"Mike\"})"
     ],
     "language": "python",
     "metadata": {},
     "outputs": [
      {
       "metadata": {},
       "output_type": "pyout",
       "prompt_number": 73,
       "text": [
        "{u'_id': ObjectId('524b59b61df26dd5967091d0'),\n",
        " u'author': u'Mike',\n",
        " u'date': datetime.datetime(2013, 10, 1, 23, 23, 52, 658000),\n",
        " u'tags': [u'mongodb', u'python', u'pymongo'],\n",
        " u'text': u'My first blog post!'}"
       ]
      }
     ],
     "prompt_number": 73
    },
    {
     "cell_type": "code",
     "collapsed": false,
     "input": [
      "posts.find_one({\"author\": \"Winter\"})"
     ],
     "language": "python",
     "metadata": {},
     "outputs": [
      {
       "metadata": {},
       "output_type": "pyout",
       "prompt_number": 87,
       "text": [
        "{u'_id': ObjectId('524b59b61df26dd5967091d0'),\n",
        " u'author': u'Winter',\n",
        " u'date': datetime.datetime(2013, 10, 1, 23, 23, 52, 658000),\n",
        " u'tags': [u'mongodb', u'python', u'pymongo'],\n",
        " u'text': u'My first blog post!'}"
       ]
      }
     ],
     "prompt_number": 87
    },
    {
     "cell_type": "code",
     "collapsed": false,
     "input": [
      "new_posts = [{\"author\": \"Mike\",\n",
      "            \"text\": \"Another post!\",\n",
      "            \"tags\": [\"bulk\", \"insert\"],\n",
      "            \"date\": datetime.datetime(2009, 11, 12, 11, 14)},\n",
      "            {\"author\": \"Eliot\",\n",
      "            \"title\": \"MongoDB is fun\",\n",
      "            \"text\": \"and pretty easy too!\",\n",
      "            \"date\": datetime.datetime(2009, 11, 10, 10, 45)}]"
     ],
     "language": "python",
     "metadata": {},
     "outputs": [],
     "prompt_number": 75
    },
    {
     "cell_type": "code",
     "collapsed": false,
     "input": [
      "posts.insert(new_posts)"
     ],
     "language": "python",
     "metadata": {},
     "outputs": [
      {
       "metadata": {},
       "output_type": "pyout",
       "prompt_number": 76,
       "text": [
        "[ObjectId('524b5abb1df26dd5967091d1'), ObjectId('524b5abb1df26dd5967091d2')]"
       ]
      }
     ],
     "prompt_number": 76
    },
    {
     "cell_type": "code",
     "collapsed": false,
     "input": [
      "for post in posts.find():\n",
      "    print post"
     ],
     "language": "python",
     "metadata": {},
     "outputs": [
      {
       "output_type": "stream",
       "stream": "stdout",
       "text": [
        "{u'date': datetime.datetime(2013, 10, 1, 23, 23, 52, 658000), u'text': u'My first blog post!', u'_id': ObjectId('524b59b61df26dd5967091d0'), u'author': u'Mike', u'tags': [u'mongodb', u'python', u'pymongo']}\n",
        "{u'date': datetime.datetime(2009, 11, 12, 11, 14), u'text': u'Another post!', u'_id': ObjectId('524b5abb1df26dd5967091d1'), u'author': u'Mike', u'tags': [u'bulk', u'insert']}\n",
        "{u'date': datetime.datetime(2009, 11, 10, 10, 45), u'text': u'and pretty easy too!', u'_id': ObjectId('524b5abb1df26dd5967091d2'), u'author': u'Eliot', u'title': u'MongoDB is fun'}\n"
       ]
      }
     ],
     "prompt_number": 79
    },
    {
     "cell_type": "code",
     "collapsed": false,
     "input": [
      "posts.count()"
     ],
     "language": "python",
     "metadata": {},
     "outputs": [
      {
       "metadata": {},
       "output_type": "pyout",
       "prompt_number": 78,
       "text": [
        "3"
       ]
      }
     ],
     "prompt_number": 78
    },
    {
     "cell_type": "code",
     "collapsed": false,
     "input": [
      "posts.find({\"author\": \"Mike\"}).count()"
     ],
     "language": "python",
     "metadata": {},
     "outputs": [
      {
       "metadata": {},
       "output_type": "pyout",
       "prompt_number": 80,
       "text": [
        "2"
       ]
      }
     ],
     "prompt_number": 80
    },
    {
     "cell_type": "code",
     "collapsed": false,
     "input": [
      "d = datetime.datetime(2009, 11, 12, 12)\n",
      "for post in posts.find({\"date\": {\"$lt\": d}}).sort(\"author\"):\n",
      "    print post"
     ],
     "language": "python",
     "metadata": {},
     "outputs": [
      {
       "output_type": "stream",
       "stream": "stdout",
       "text": [
        "{u'date': datetime.datetime(2009, 11, 10, 10, 45), u'text': u'and pretty easy too!', u'_id': ObjectId('524b5abb1df26dd5967091d2'), u'author': u'Eliot', u'title': u'MongoDB is fun'}\n",
        "{u'date': datetime.datetime(2009, 11, 12, 11, 14), u'text': u'Another post!', u'_id': ObjectId('524b5abb1df26dd5967091d1'), u'author': u'Mike', u'tags': [u'bulk', u'insert']}\n"
       ]
      }
     ],
     "prompt_number": 81
    },
    {
     "cell_type": "code",
     "collapsed": false,
     "input": [
      "print posts.find({\"date\": {\"$lt\": d}}).sort(\"author\").explain()[\"cursor\"]\n",
      "posts.find({\"date\": {\"$lt\": d}}).sort(\"author\").explain()[\"nscanned\"]"
     ],
     "language": "python",
     "metadata": {},
     "outputs": [
      {
       "output_type": "stream",
       "stream": "stdout",
       "text": [
        "BasicCursor\n"
       ]
      },
      {
       "metadata": {},
       "output_type": "pyout",
       "prompt_number": 83,
       "text": [
        "3"
       ]
      }
     ],
     "prompt_number": 83
    },
    {
     "cell_type": "code",
     "collapsed": false,
     "input": [
      "from pymongo import ASCENDING, DESCENDING\n",
      "posts.create_index([(\"date\", DESCENDING), (\"author\", ASCENDING)])"
     ],
     "language": "python",
     "metadata": {},
     "outputs": [
      {
       "metadata": {},
       "output_type": "pyout",
       "prompt_number": 84,
       "text": [
        "u'date_-1_author_1'"
       ]
      }
     ],
     "prompt_number": 84
    },
    {
     "cell_type": "code",
     "collapsed": false,
     "input": [
      "print posts.find({\"date\": {\"$lt\": d}}).sort(\"author\").explain()[\"cursor\"]\n",
      "posts.find({\"date\": {\"$lt\": d}}).sort(\"author\").explain()[\"nscanned\"]"
     ],
     "language": "python",
     "metadata": {},
     "outputs": [
      {
       "output_type": "stream",
       "stream": "stdout",
       "text": [
        "BtreeCursor date_-1_author_1\n"
       ]
      },
      {
       "metadata": {},
       "output_type": "pyout",
       "prompt_number": 85,
       "text": [
        "2"
       ]
      }
     ],
     "prompt_number": 85
    },
    {
     "cell_type": "code",
     "collapsed": false,
     "input": [
      "posts.update({\"author\": \"Mike\"}, { \"$set\": { \"author\": \"Winter\"} })"
     ],
     "language": "python",
     "metadata": {},
     "outputs": [
      {
       "metadata": {},
       "output_type": "pyout",
       "prompt_number": 86,
       "text": [
        "{u'connectionId': 3,\n",
        " u'err': None,\n",
        " u'n': 1,\n",
        " u'ok': 1.0,\n",
        " u'updatedExisting': True}"
       ]
      }
     ],
     "prompt_number": 86
    },
    {
     "cell_type": "code",
     "collapsed": false,
     "input": [
      "posts.remove({\"author\":\"Eliot\"})"
     ],
     "language": "python",
     "metadata": {},
     "outputs": [
      {
       "metadata": {},
       "output_type": "pyout",
       "prompt_number": 88,
       "text": [
        "{u'connectionId': 3, u'err': None, u'n': 1, u'ok': 1.0}"
       ]
      }
     ],
     "prompt_number": 88
    },
    {
     "cell_type": "heading",
     "level": 2,
     "metadata": {},
     "source": [
      "More on visualizations"
     ]
    },
    {
     "cell_type": "code",
     "collapsed": false,
     "input": [
      "import numpy as np\n",
      "import matplotlib.pyplot as plt\n",
      "import pylab"
     ],
     "language": "python",
     "metadata": {},
     "outputs": [],
     "prompt_number": 89
    },
    {
     "cell_type": "heading",
     "level": 4,
     "metadata": {},
     "source": [
      "Bar chart"
     ]
    },
    {
     "cell_type": "code",
     "collapsed": false,
     "input": [
      "numTests = 5\n",
      "testNames = ['Pacer Test', 'Flexed Arm\\n Hang', 'Mile Run', 'Agility',\n",
      "            'Push Ups']\n",
      "rankings = np.round(np.random.uniform(0, 1, numTests)*100, 0)"
     ],
     "language": "python",
     "metadata": {},
     "outputs": [],
     "prompt_number": 93
    },
    {
     "cell_type": "code",
     "collapsed": false,
     "input": [
      "rankings"
     ],
     "language": "python",
     "metadata": {},
     "outputs": [
      {
       "metadata": {},
       "output_type": "pyout",
       "prompt_number": 94,
       "text": [
        "array([ 11.,  36.,  98.,  99.,  14.])"
       ]
      }
     ],
     "prompt_number": 94
    },
    {
     "cell_type": "code",
     "collapsed": false,
     "input": [
      "fig, ax1 = plt.subplots(figsize=(9,7))\n",
      "plt.subplots_adjust(left=0.115, right=0.88)\n",
      "fig.canvas.set_window_title('Fitness Chart')\n",
      "pos = np.arange(numTests)+0.5    #Center bars on the Y-axis ticks\n",
      "rects = ax1.barh(pos, rankings, align='center', height=0.5, color='m')\n",
      "ax1.axis([0,100,0,5])\n",
      "pylab.yticks(pos, testNames)"
     ],
     "language": "python",
     "metadata": {},
     "outputs": [
      {
       "metadata": {},
       "output_type": "pyout",
       "prompt_number": 102,
       "text": [
        "([<matplotlib.axis.YTick at 0x111ac8a90>,\n",
        "  <matplotlib.axis.YTick at 0x111abaad0>,\n",
        "  <matplotlib.axis.YTick at 0x1104cfa10>,\n",
        "  <matplotlib.axis.YTick at 0x1104ca9d0>,\n",
        "  <matplotlib.axis.YTick at 0x111ad9450>],\n",
        " <a list of 5 Text yticklabel objects>)"
       ]
      }
     ],
     "prompt_number": 102
    },
    {
     "cell_type": "code",
     "collapsed": false,
     "input": [
      "np.arange(numTests)+0.5"
     ],
     "language": "python",
     "metadata": {},
     "outputs": [
      {
       "metadata": {},
       "output_type": "pyout",
       "prompt_number": 99,
       "text": [
        "array([ 0.5,  1.5,  2.5,  3.5,  4.5])"
       ]
      }
     ],
     "prompt_number": 99
    },
    {
     "cell_type": "heading",
     "level": 4,
     "metadata": {},
     "source": [
      "Histogram"
     ]
    },
    {
     "cell_type": "code",
     "collapsed": false,
     "input": [
      "#\n",
      "# first create a single histogram\n",
      "#\n",
      "mu, sigma = 200, 25\n",
      "x = mu + sigma*pylab.randn(10000)"
     ],
     "language": "python",
     "metadata": {},
     "outputs": [],
     "prompt_number": 103
    },
    {
     "cell_type": "code",
     "collapsed": false,
     "input": [
      "x[1:10,]"
     ],
     "language": "python",
     "metadata": {},
     "outputs": [
      {
       "metadata": {},
       "output_type": "pyout",
       "prompt_number": 104,
       "text": [
        "array([ 178.13473568,  209.8014891 ,  232.20158638,  193.61073063,\n",
        "        225.08002801,  196.1972774 ,  227.31191783,  203.00993438,\n",
        "        200.8204917 ])"
       ]
      }
     ],
     "prompt_number": 104
    },
    {
     "cell_type": "code",
     "collapsed": false,
     "input": [
      "# the histogram of the data with histtype='step'\n",
      "n, bins, patches = pylab.hist(x, 50,  normed=1, histtype='stepfilled')\n",
      "pylab.setp(patches, 'facecolor', 'b', 'alpha', 0.15)"
     ],
     "language": "python",
     "metadata": {},
     "outputs": [
      {
       "metadata": {},
       "output_type": "pyout",
       "prompt_number": 113,
       "text": [
        "[None, None]"
       ]
      }
     ],
     "prompt_number": 113
    },
    {
     "cell_type": "code",
     "collapsed": false,
     "input": [
      "# add a line showing the expected distribution\n",
      "y = pylab.normpdf( bins, mu, sigma)\n",
      "l = pylab.plot(bins, y, 'r.', linewidth=1.5)"
     ],
     "language": "python",
     "metadata": {},
     "outputs": [],
     "prompt_number": 114
    },
    {
     "cell_type": "code",
     "collapsed": false,
     "input": [
      "bins = [100,125,150,160,170,180,190,200,210,220,230,240,250,275,300]\n",
      "# the histogram of the data with histtype='step'\n",
      "n, bins, patches = pylab.hist(x, bins, normed=1, histtype='bar', rwidth=0.8)"
     ],
     "language": "python",
     "metadata": {},
     "outputs": [],
     "prompt_number": 115
    },
    {
     "cell_type": "heading",
     "level": 4,
     "metadata": {},
     "source": [
      "Scatter plot"
     ]
    },
    {
     "cell_type": "code",
     "collapsed": false,
     "input": [
      "# get friend and follower counts from db\n",
      "query = \"SELECT followers_count, friends_count FROM user LIMIT 100\"\n",
      "success = cur.execute(query)\n",
      "counts = cur.fetchall()"
     ],
     "language": "python",
     "metadata": {},
     "outputs": [],
     "prompt_number": 119
    },
    {
     "cell_type": "code",
     "collapsed": false,
     "input": [
      "counts = array(counts)"
     ],
     "language": "python",
     "metadata": {},
     "outputs": [],
     "prompt_number": 123
    },
    {
     "cell_type": "code",
     "collapsed": false,
     "input": [
      "counts[1:10,0]"
     ],
     "language": "python",
     "metadata": {},
     "outputs": [
      {
       "metadata": {},
       "output_type": "pyout",
       "prompt_number": 126,
       "text": [
        "array([  196, 61199,  3790,   783,  1308,  3023,   285,   477,   358])"
       ]
      }
     ],
     "prompt_number": 126
    },
    {
     "cell_type": "code",
     "collapsed": false,
     "input": [
      "fig, ax = plt.subplots()\n",
      "ax.plot(log(counts[:,0]+1), log(counts[:,1]+1), 'o')\n",
      "ax.set_title('Friends and Followers')\n",
      "plt.show()"
     ],
     "language": "python",
     "metadata": {},
     "outputs": [],
     "prompt_number": 128
    },
    {
     "cell_type": "heading",
     "level": 4,
     "metadata": {},
     "source": [
      "Line plot"
     ]
    },
    {
     "cell_type": "code",
     "collapsed": false,
     "input": [
      "x = np.arange(0.1, 4, 0.5)\n",
      "y = np.exp(-x)\n",
      "\n",
      "plt.errorbar(x, y, yerr=0.4)\n",
      "plt.show()"
     ],
     "language": "python",
     "metadata": {},
     "outputs": [],
     "prompt_number": 132
    },
    {
     "cell_type": "code",
     "collapsed": false,
     "input": [
      "fnx = lambda : np.random.randint(5, 50, 10)\n",
      "y = np.row_stack((fnx(), fnx(), fnx()))\n",
      "x = np.arange(10)\n",
      "\n",
      "y1, y2, y3 = fnx(), fnx(), fnx()\n",
      "\n",
      "fig, ax = plt.subplots()\n",
      "ax.stackplot(x, y)\n",
      "plt.show()\n",
      "\n",
      "fig, ax = plt.subplots()\n",
      "ax.stackplot(x, y1, y2, y3)\n",
      "plt.show()"
     ],
     "language": "python",
     "metadata": {},
     "outputs": [],
     "prompt_number": 133
    },
    {
     "cell_type": "code",
     "collapsed": false,
     "input": [],
     "language": "python",
     "metadata": {},
     "outputs": []
    }
   ],
   "metadata": {}
  }
 ]
}
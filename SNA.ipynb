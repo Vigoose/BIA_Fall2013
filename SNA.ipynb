{
 "metadata": {
  "name": ""
 },
 "nbformat": 3,
 "nbformat_minor": 0,
 "worksheets": [
  {
   "cells": [
    {
     "cell_type": "code",
     "collapsed": false,
     "input": [
      "import networkx as nx\n",
      "import matplotlib.pyplot as plt"
     ],
     "language": "python",
     "metadata": {},
     "outputs": [],
     "prompt_number": 15
    },
    {
     "cell_type": "code",
     "collapsed": false,
     "input": [
      "Gws = nx.connected_watts_strogatz_graph(50,6,0.3)"
     ],
     "language": "python",
     "metadata": {},
     "outputs": [],
     "prompt_number": 30
    },
    {
     "cell_type": "code",
     "collapsed": false,
     "input": [
      "nx.draw_circular(Gws)\n",
      "plt.show()"
     ],
     "language": "python",
     "metadata": {},
     "outputs": [],
     "prompt_number": 32
    },
    {
     "cell_type": "code",
     "collapsed": false,
     "input": [
      "Gba = nx.barabasi_albert_graph(150,4)"
     ],
     "language": "python",
     "metadata": {},
     "outputs": [],
     "prompt_number": 39
    },
    {
     "cell_type": "code",
     "collapsed": false,
     "input": [
      "nx.draw_spring(Gba)\n",
      "plt.show()"
     ],
     "language": "python",
     "metadata": {},
     "outputs": [],
     "prompt_number": 41
    },
    {
     "cell_type": "code",
     "collapsed": false,
     "input": [
      "karate = nx.karate_club_graph()"
     ],
     "language": "python",
     "metadata": {},
     "outputs": [],
     "prompt_number": 42
    },
    {
     "cell_type": "code",
     "collapsed": false,
     "input": [
      "nx.draw_spring(karate)\n",
      "plt.show()"
     ],
     "language": "python",
     "metadata": {},
     "outputs": [],
     "prompt_number": 43
    },
    {
     "cell_type": "code",
     "collapsed": false,
     "input": [
      "nameyears = {}\n",
      "fh = open('booknames.csv','r+')\n",
      "for line in fh:\n",
      "    year,names,freq = line.split(',')\n",
      "    name1,name2=names.split('-')\n",
      "    if year in nameyears:\n",
      "        if name1<name2:\n",
      "            if name1 in nameyears[year]:\n",
      "                if name2 in nameyears[year][name1]:\n",
      "                    nameyears[year][name1][name2] += freq\n",
      "                else:\n",
      "                    nameyears[year][name1][name2] = freq\n",
      "            else:\n",
      "                nameyears[year][name1]={name2:freq}\n",
      "        else:\n",
      "            if name2 in nameyears[year]:\n",
      "                if name1 in nameyears[year][name2]:\n",
      "                    nameyears[year][name2][name1] += freq\n",
      "                else:\n",
      "                    nameyears[year][name2][name1] = freq\n",
      "            else:\n",
      "                nameyears[year][name2]={name1:freq}\n",
      "    else:\n",
      "        if name1<name2:\n",
      "            nameyears[year]={name1:{name2:freq}}\n",
      "        else:\n",
      "            nameyears[year]={name2:{name1:freq}}"
     ],
     "language": "python",
     "metadata": {},
     "outputs": []
    },
    {
     "cell_type": "code",
     "collapsed": false,
     "input": [
      "nameyears[2000]"
     ],
     "language": "python",
     "metadata": {},
     "outputs": []
    },
    {
     "cell_type": "code",
     "collapsed": false,
     "input": [
      "graphyears = {}\n",
      "for year, names in graphyears:\n",
      "    G = nx.Graph()\n",
      "    for node, neighbors in names:\n",
      "        for neighbor, weight in neighbors:\n",
      "            G.add_edge(node, neighbor, weight=weight)\n",
      "    graphyears[year] = G"
     ],
     "language": "python",
     "metadata": {},
     "outputs": []
    },
    {
     "cell_type": "code",
     "collapsed": false,
     "input": [
      "G2000 = graphyears[2000]"
     ],
     "language": "python",
     "metadata": {},
     "outputs": []
    },
    {
     "cell_type": "code",
     "collapsed": false,
     "input": [
      "nx.draw_spring(G2000)\n",
      "plt.show()"
     ],
     "language": "python",
     "metadata": {},
     "outputs": []
    },
    {
     "cell_type": "code",
     "collapsed": false,
     "input": [
      "G2000.degree('michael')"
     ],
     "language": "python",
     "metadata": {},
     "outputs": []
    },
    {
     "cell_type": "code",
     "collapsed": false,
     "input": [
      "nx.write_adjlist(karate, 'karateclub_adj.csv')\n"
     ],
     "language": "python",
     "metadata": {},
     "outputs": [],
     "prompt_number": 44
    },
    {
     "cell_type": "code",
     "collapsed": false,
     "input": [
      "for edge in nx.edges_iter(karate):\n",
      "    print edge"
     ],
     "language": "python",
     "metadata": {},
     "outputs": [
      {
       "output_type": "stream",
       "stream": "stdout",
       "text": [
        "(0, 1)\n",
        "(0, 2)\n",
        "(0, 3)\n",
        "(0, 4)\n",
        "(0, 5)\n",
        "(0, 6)\n",
        "(0, 7)\n",
        "(0, 8)\n",
        "(0, 10)\n",
        "(0, 11)\n",
        "(0, 12)\n",
        "(0, 13)\n",
        "(0, 17)\n",
        "(0, 19)\n",
        "(0, 21)\n",
        "(0, 31)\n",
        "(1, 2)\n",
        "(1, 3)\n",
        "(1, 7)\n",
        "(1, 13)\n",
        "(1, 17)\n",
        "(1, 19)\n",
        "(1, 21)\n",
        "(1, 30)\n",
        "(2, 3)\n",
        "(2, 32)\n",
        "(2, 7)\n",
        "(2, 8)\n",
        "(2, 9)\n",
        "(2, 13)\n",
        "(2, 27)\n",
        "(2, 28)\n",
        "(3, 7)\n",
        "(3, 12)\n",
        "(3, 13)\n",
        "(4, 10)\n",
        "(4, 6)\n",
        "(5, 16)\n",
        "(5, 10)\n",
        "(5, 6)\n",
        "(6, 16)\n",
        "(8, 32)\n",
        "(8, 30)\n",
        "(8, 33)\n",
        "(9, 33)\n",
        "(13, 33)\n",
        "(14, 32)\n",
        "(14, 33)\n",
        "(15, 32)\n",
        "(15, 33)\n",
        "(18, 32)\n",
        "(18, 33)\n",
        "(19, 33)\n",
        "(20, 32)\n",
        "(20, 33)\n",
        "(22, 32)\n",
        "(22, 33)\n",
        "(23, 32)\n",
        "(23, 25)\n",
        "(23, 27)\n",
        "(23, 29)\n",
        "(23, 33)\n",
        "(24, 25)\n",
        "(24, 27)\n",
        "(24, 31)\n",
        "(25, 31)\n",
        "(26, 33)\n",
        "(26, 29)\n",
        "(27, 33)\n",
        "(28, 33)\n",
        "(28, 31)\n",
        "(29, 32)\n",
        "(29, 33)\n",
        "(30, 33)\n",
        "(30, 32)\n",
        "(31, 33)\n",
        "(31, 32)\n",
        "(32, 33)\n"
       ]
      }
     ],
     "prompt_number": 46
    },
    {
     "cell_type": "code",
     "collapsed": false,
     "input": [
      "karate_json = {\"nodes\":[],\"links\":[]}\n",
      "for node in nx.nodes_iter(karate):\n",
      "    n = {\"name\":node, \"group\":1}\n",
      "    karate_json[\"nodes\"].append(n)\n",
      "for edge in nx.edges_iter(karate):\n",
      "    e = {\"source\":edge[0], \"target\":edge[1], \"value\":1}\n",
      "    karate_json[\"links\"].append(e)\n"
     ],
     "language": "python",
     "metadata": {},
     "outputs": [],
     "prompt_number": 52
    },
    {
     "cell_type": "code",
     "collapsed": false,
     "input": [
      "print karate_json"
     ],
     "language": "python",
     "metadata": {},
     "outputs": [
      {
       "output_type": "stream",
       "stream": "stdout",
       "text": [
        "{'nodes': [{'group': 1, 'name': 0}, {'group': 1, 'name': 1}, {'group': 1, 'name': 2}, {'group': 1, 'name': 3}, {'group': 1, 'name': 4}, {'group': 1, 'name': 5}, {'group': 1, 'name': 6}, {'group': 1, 'name': 7}, {'group': 1, 'name': 8}, {'group': 1, 'name': 9}, {'group': 1, 'name': 10}, {'group': 1, 'name': 11}, {'group': 1, 'name': 12}, {'group': 1, 'name': 13}, {'group': 1, 'name': 14}, {'group': 1, 'name': 15}, {'group': 1, 'name': 16}, {'group': 1, 'name': 17}, {'group': 1, 'name': 18}, {'group': 1, 'name': 19}, {'group': 1, 'name': 20}, {'group': 1, 'name': 21}, {'group': 1, 'name': 22}, {'group': 1, 'name': 23}, {'group': 1, 'name': 24}, {'group': 1, 'name': 25}, {'group': 1, 'name': 26}, {'group': 1, 'name': 27}, {'group': 1, 'name': 28}, {'group': 1, 'name': 29}, {'group': 1, 'name': 30}, {'group': 1, 'name': 31}, {'group': 1, 'name': 32}, {'group': 1, 'name': 33}], 'links': [{'source': 0, 'target': 1, 'value': 1}, {'source': 0, 'target': 2, 'value': 1}, {'source': 0, 'target': 3, 'value': 1}, {'source': 0, 'target': 4, 'value': 1}, {'source': 0, 'target': 5, 'value': 1}, {'source': 0, 'target': 6, 'value': 1}, {'source': 0, 'target': 7, 'value': 1}, {'source': 0, 'target': 8, 'value': 1}, {'source': 0, 'target': 10, 'value': 1}, {'source': 0, 'target': 11, 'value': 1}, {'source': 0, 'target': 12, 'value': 1}, {'source': 0, 'target': 13, 'value': 1}, {'source': 0, 'target': 17, 'value': 1}, {'source': 0, 'target': 19, 'value': 1}, {'source': 0, 'target': 21, 'value': 1}, {'source': 0, 'target': 31, 'value': 1}, {'source': 1, 'target': 2, 'value': 1}, {'source': 1, 'target': 3, 'value': 1}, {'source': 1, 'target': 7, 'value': 1}, {'source': 1, 'target': 13, 'value': 1}, {'source': 1, 'target': 17, 'value': 1}, {'source': 1, 'target': 19, 'value': 1}, {'source': 1, 'target': 21, 'value': 1}, {'source': 1, 'target': 30, 'value': 1}, {'source': 2, 'target': 3, 'value': 1}, {'source': 2, 'target': 32, 'value': 1}, {'source': 2, 'target': 7, 'value': 1}, {'source': 2, 'target': 8, 'value': 1}, {'source': 2, 'target': 9, 'value': 1}, {'source': 2, 'target': 13, 'value': 1}, {'source': 2, 'target': 27, 'value': 1}, {'source': 2, 'target': 28, 'value': 1}, {'source': 3, 'target': 7, 'value': 1}, {'source': 3, 'target': 12, 'value': 1}, {'source': 3, 'target': 13, 'value': 1}, {'source': 4, 'target': 10, 'value': 1}, {'source': 4, 'target': 6, 'value': 1}, {'source': 5, 'target': 16, 'value': 1}, {'source': 5, 'target': 10, 'value': 1}, {'source': 5, 'target': 6, 'value': 1}, {'source': 6, 'target': 16, 'value': 1}, {'source': 8, 'target': 32, 'value': 1}, {'source': 8, 'target': 30, 'value': 1}, {'source': 8, 'target': 33, 'value': 1}, {'source': 9, 'target': 33, 'value': 1}, {'source': 13, 'target': 33, 'value': 1}, {'source': 14, 'target': 32, 'value': 1}, {'source': 14, 'target': 33, 'value': 1}, {'source': 15, 'target': 32, 'value': 1}, {'source': 15, 'target': 33, 'value': 1}, {'source': 18, 'target': 32, 'value': 1}, {'source': 18, 'target': 33, 'value': 1}, {'source': 19, 'target': 33, 'value': 1}, {'source': 20, 'target': 32, 'value': 1}, {'source': 20, 'target': 33, 'value': 1}, {'source': 22, 'target': 32, 'value': 1}, {'source': 22, 'target': 33, 'value': 1}, {'source': 23, 'target': 32, 'value': 1}, {'source': 23, 'target': 25, 'value': 1}, {'source': 23, 'target': 27, 'value': 1}, {'source': 23, 'target': 29, 'value': 1}, {'source': 23, 'target': 33, 'value': 1}, {'source': 24, 'target': 25, 'value': 1}, {'source': 24, 'target': 27, 'value': 1}, {'source': 24, 'target': 31, 'value': 1}, {'source': 25, 'target': 31, 'value': 1}, {'source': 26, 'target': 33, 'value': 1}, {'source': 26, 'target': 29, 'value': 1}, {'source': 27, 'target': 33, 'value': 1}, {'source': 28, 'target': 33, 'value': 1}, {'source': 28, 'target': 31, 'value': 1}, {'source': 29, 'target': 32, 'value': 1}, {'source': 29, 'target': 33, 'value': 1}, {'source': 30, 'target': 33, 'value': 1}, {'source': 30, 'target': 32, 'value': 1}, {'source': 31, 'target': 33, 'value': 1}, {'source': 31, 'target': 32, 'value': 1}, {'source': 32, 'target': 33, 'value': 1}]}\n"
       ]
      }
     ],
     "prompt_number": 53
    },
    {
     "cell_type": "code",
     "collapsed": false,
     "input": [
      "import json\n",
      "fh = open('karate.json','w')\n",
      "json.dump(karate_json, fh)\n",
      "fh.close()"
     ],
     "language": "python",
     "metadata": {},
     "outputs": [],
     "prompt_number": 54
    },
    {
     "cell_type": "code",
     "collapsed": false,
     "input": [],
     "language": "python",
     "metadata": {},
     "outputs": []
    }
   ],
   "metadata": {}
  }
 ]
}
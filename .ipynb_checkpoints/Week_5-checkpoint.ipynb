{
 "metadata": {
  "name": ""
 },
 "nbformat": 3,
 "nbformat_minor": 0,
 "worksheets": [
  {
   "cells": [
    {
     "cell_type": "code",
     "collapsed": false,
     "input": [
      "import twitter as tw\n",
      "OAUTH_TOKEN='19202628-uzTh3h9JB6pM07JaB4fqA4oHnWffsd1blEwApA'\n",
      "OAUTH_SECRET='bpP3m3anqew88u3MGAWPqFGElUv5RG4zFkEUDkAD2A'\n",
      "CONSUMER_KEY='HrI9pkJWwsdTL1jv9fDmg'\n",
      "CONSUMER_SECRET='xr0nXTJytnMdN7XIsoUIGNErJ5QuPJYv92VfBJnX8XI'"
     ],
     "language": "python",
     "metadata": {},
     "outputs": [],
     "prompt_number": 68
    },
    {
     "cell_type": "code",
     "collapsed": false,
     "input": [
      "t = tw.Twitter(auth=tw.OAuth(OAUTH_TOKEN, OAUTH_SECRET,\n",
      "                       CONSUMER_KEY, CONSUMER_SECRET))"
     ],
     "language": "python",
     "metadata": {},
     "outputs": [],
     "prompt_number": 69
    },
    {
     "cell_type": "code",
     "collapsed": false,
     "input": [
      "fb_mentions = t.search.tweets(q='@facebook',lang='en',result_type='recent',count=100)"
     ],
     "language": "python",
     "metadata": {},
     "outputs": [],
     "prompt_number": 70
    },
    {
     "cell_type": "code",
     "collapsed": false,
     "input": [
      "print fb_mentions.keys()"
     ],
     "language": "python",
     "metadata": {},
     "outputs": [
      {
       "output_type": "stream",
       "stream": "stdout",
       "text": [
        "[u'search_metadata', u'statuses']\n"
       ]
      }
     ],
     "prompt_number": 71
    },
    {
     "cell_type": "code",
     "collapsed": false,
     "input": [
      "fb_mentions['search_metadata']"
     ],
     "language": "python",
     "metadata": {},
     "outputs": [
      {
       "metadata": {},
       "output_type": "pyout",
       "prompt_number": 72,
       "text": [
        "{u'completed_in': 0.141,\n",
        " u'count': 100,\n",
        " u'max_id': 382636907898740737,\n",
        " u'max_id_str': u'382636907898740737',\n",
        " u'next_results': u'?max_id=382617740626128896&q=%40facebook&lang=en&count=100&include_entities=1&result_type=recent',\n",
        " u'query': u'%40facebook',\n",
        " u'refresh_url': u'?since_id=382636907898740737&q=%40facebook&lang=en&result_type=recent&include_entities=1',\n",
        " u'since_id': 0,\n",
        " u'since_id_str': u'0'}"
       ]
      }
     ],
     "prompt_number": 72
    },
    {
     "cell_type": "code",
     "collapsed": false,
     "input": [
      "fb_mentions['statuses'][0]"
     ],
     "language": "python",
     "metadata": {},
     "outputs": [
      {
       "metadata": {},
       "output_type": "pyout",
       "prompt_number": 73,
       "text": [
        "{u'contributors': None,\n",
        " u'coordinates': None,\n",
        " u'created_at': u'Tue Sep 24 22:45:22 +0000 2013',\n",
        " u'entities': {u'hashtags': [],\n",
        "  u'symbols': [],\n",
        "  u'urls': [{u'display_url': u'ow.ly/pbcGt',\n",
        "    u'expanded_url': u'http://ow.ly/pbcGt',\n",
        "    u'indices': [67, 89],\n",
        "    u'url': u'http://t.co/m9L1KJlJvQ'}],\n",
        "  u'user_mentions': [{u'id': 6577642,\n",
        "    u'id_str': u'6577642',\n",
        "    u'indices': [3, 10],\n",
        "    u'name': u'U.S. News',\n",
        "    u'screen_name': u'usnews'},\n",
        "   {u'id': 783214,\n",
        "    u'id_str': u'783214',\n",
        "    u'indices': [27, 35],\n",
        "    u'name': u'Twitter',\n",
        "    u'screen_name': u'twitter'},\n",
        "   {u'id': 2425151,\n",
        "    u'id_str': u'2425151',\n",
        "    u'indices': [37, 46],\n",
        "    u'name': u'Facebook',\n",
        "    u'screen_name': u'facebook'}]},\n",
        " u'favorite_count': 0,\n",
        " u'favorited': False,\n",
        " u'geo': None,\n",
        " u'id': 382636907898740737,\n",
        " u'id_str': u'382636907898740737',\n",
        " u'in_reply_to_screen_name': None,\n",
        " u'in_reply_to_status_id': None,\n",
        " u'in_reply_to_status_id_str': None,\n",
        " u'in_reply_to_user_id': None,\n",
        " u'in_reply_to_user_id_str': None,\n",
        " u'lang': u'en',\n",
        " u'metadata': {u'iso_language_code': u'en', u'result_type': u'recent'},\n",
        " u'place': None,\n",
        " u'possibly_sensitive': False,\n",
        " u'retweet_count': 2,\n",
        " u'retweeted': False,\n",
        " u'retweeted_status': {u'contributors': None,\n",
        "  u'coordinates': None,\n",
        "  u'created_at': u'Tue Sep 24 22:45:03 +0000 2013',\n",
        "  u'entities': {u'hashtags': [],\n",
        "   u'symbols': [],\n",
        "   u'urls': [{u'display_url': u'ow.ly/pbcGt',\n",
        "     u'expanded_url': u'http://ow.ly/pbcGt',\n",
        "     u'indices': [55, 77],\n",
        "     u'url': u'http://t.co/m9L1KJlJvQ'}],\n",
        "   u'user_mentions': [{u'id': 783214,\n",
        "     u'id_str': u'783214',\n",
        "     u'indices': [15, 23],\n",
        "     u'name': u'Twitter',\n",
        "     u'screen_name': u'twitter'},\n",
        "    {u'id': 2425151,\n",
        "     u'id_str': u'2425151',\n",
        "     u'indices': [25, 34],\n",
        "     u'name': u'Facebook',\n",
        "     u'screen_name': u'facebook'}]},\n",
        "  u'favorite_count': 0,\n",
        "  u'favorited': False,\n",
        "  u'geo': None,\n",
        "  u'id': 382636827871830016,\n",
        "  u'id_str': u'382636827871830016',\n",
        "  u'in_reply_to_screen_name': None,\n",
        "  u'in_reply_to_status_id': None,\n",
        "  u'in_reply_to_status_id_str': None,\n",
        "  u'in_reply_to_user_id': None,\n",
        "  u'in_reply_to_user_id_str': None,\n",
        "  u'lang': u'en',\n",
        "  u'metadata': {u'iso_language_code': u'en', u'result_type': u'recent'},\n",
        "  u'place': None,\n",
        "  u'possibly_sensitive': False,\n",
        "  u'retweet_count': 2,\n",
        "  u'retweeted': False,\n",
        "  u'source': u'<a href=\"http://www.hootsuite.com\" rel=\"nofollow\">HootSuite</a>',\n",
        "  u'text': u'China unblocks @Twitter, @Facebook in part of Shanghai http://t.co/m9L1KJlJvQ',\n",
        "  u'truncated': False,\n",
        "  u'user': {u'contributors_enabled': False,\n",
        "   u'created_at': u'Mon Jun 04 19:19:49 +0000 2007',\n",
        "   u'default_profile': False,\n",
        "   u'default_profile_image': False,\n",
        "   u'description': u'News, Opinion, Rankings and more from U.S. News & World Report. Follow for the best News You Can Use in Politics, Health, Education, Money and more.',\n",
        "   u'entities': {u'description': {u'urls': []},\n",
        "    u'url': {u'urls': [{u'display_url': u'usnews.com',\n",
        "       u'expanded_url': u'http://www.usnews.com',\n",
        "       u'indices': [0, 22],\n",
        "       u'url': u'http://t.co/DIfx6FQSRs'}]}},\n",
        "   u'favourites_count': 5,\n",
        "   u'follow_request_sent': False,\n",
        "   u'followers_count': 65987,\n",
        "   u'following': False,\n",
        "   u'friends_count': 529,\n",
        "   u'geo_enabled': False,\n",
        "   u'id': 6577642,\n",
        "   u'id_str': u'6577642',\n",
        "   u'is_translator': False,\n",
        "   u'lang': u'en',\n",
        "   u'listed_count': 2647,\n",
        "   u'location': u'Washington, DC',\n",
        "   u'name': u'U.S. News',\n",
        "   u'notifications': False,\n",
        "   u'profile_background_color': u'005EA6',\n",
        "   u'profile_background_image_url': u'http://a0.twimg.com/profile_background_images/783719300/91b00112bd6f0ad3bc45eb8d946056ed.png',\n",
        "   u'profile_background_image_url_https': u'https://si0.twimg.com/profile_background_images/783719300/91b00112bd6f0ad3bc45eb8d946056ed.png',\n",
        "   u'profile_background_tile': True,\n",
        "   u'profile_banner_url': u'https://pbs.twimg.com/profile_banners/6577642/1360249337',\n",
        "   u'profile_image_url': u'http://a0.twimg.com/profile_images/3217425773/ef973bf9519503bd543ff48e2564f9da_normal.png',\n",
        "   u'profile_image_url_https': u'https://si0.twimg.com/profile_images/3217425773/ef973bf9519503bd543ff48e2564f9da_normal.png',\n",
        "   u'profile_link_color': u'005EA6',\n",
        "   u'profile_sidebar_border_color': u'FFFFFF',\n",
        "   u'profile_sidebar_fill_color': u'FFFFFF',\n",
        "   u'profile_text_color': u'000000',\n",
        "   u'profile_use_background_image': True,\n",
        "   u'protected': False,\n",
        "   u'screen_name': u'usnews',\n",
        "   u'statuses_count': 64552,\n",
        "   u'time_zone': u'Eastern Time (US & Canada)',\n",
        "   u'url': u'http://t.co/DIfx6FQSRs',\n",
        "   u'utc_offset': -14400,\n",
        "   u'verified': True}},\n",
        " u'source': u'<a href=\"http://twitter.com/download/iphone\" rel=\"nofollow\">Twitter for iPhone</a>',\n",
        " u'text': u'RT @usnews: China unblocks @Twitter, @Facebook in part of Shanghai http://t.co/m9L1KJlJvQ',\n",
        " u'truncated': False,\n",
        " u'user': {u'contributors_enabled': False,\n",
        "  u'created_at': u'Tue Aug 16 05:25:31 +0000 2011',\n",
        "  u'default_profile': False,\n",
        "  u'default_profile_image': False,\n",
        "  u'description': u'Social Studies Teacher Tweets: Geography, History, Government, Economics, College Opportunities, School Events, & Words of Wisdom!* (*Subject to Interpretation)',\n",
        "  u'entities': {u'description': {u'urls': []},\n",
        "   u'url': {u'urls': [{u'display_url': u'sites.google.com/site/mrdssocia\\u2026',\n",
        "      u'expanded_url': u'https://sites.google.com/site/mrdssocialstudiessite/',\n",
        "      u'indices': [0, 23],\n",
        "      u'url': u'https://t.co/s8nKTNf6MA'}]}},\n",
        "  u'favourites_count': 51,\n",
        "  u'follow_request_sent': False,\n",
        "  u'followers_count': 99,\n",
        "  u'following': False,\n",
        "  u'friends_count': 201,\n",
        "  u'geo_enabled': False,\n",
        "  u'id': 355989736,\n",
        "  u'id_str': u'355989736',\n",
        "  u'is_translator': False,\n",
        "  u'lang': u'en',\n",
        "  u'listed_count': 0,\n",
        "  u'location': u'San Antonio, TX',\n",
        "  u'name': u'Mr. D',\n",
        "  u'notifications': False,\n",
        "  u'profile_background_color': u'DBE9ED',\n",
        "  u'profile_background_image_url': u'http://a0.twimg.com/profile_background_images/442403560/funny_iphone_lincoln-8ebef30b1831a07f8a24601008dec78e_m.jpg',\n",
        "  u'profile_background_image_url_https': u'https://si0.twimg.com/profile_background_images/442403560/funny_iphone_lincoln-8ebef30b1831a07f8a24601008dec78e_m.jpg',\n",
        "  u'profile_background_tile': True,\n",
        "  u'profile_banner_url': u'https://pbs.twimg.com/profile_banners/355989736/1365858484',\n",
        "  u'profile_image_url': u'http://a0.twimg.com/profile_images/378800000362287603/964d44f0c337f692271040cd43521379_normal.jpeg',\n",
        "  u'profile_image_url_https': u'https://si0.twimg.com/profile_images/378800000362287603/964d44f0c337f692271040cd43521379_normal.jpeg',\n",
        "  u'profile_link_color': u'CC3366',\n",
        "  u'profile_sidebar_border_color': u'C0DEED',\n",
        "  u'profile_sidebar_fill_color': u'DDEEF6',\n",
        "  u'profile_text_color': u'333333',\n",
        "  u'profile_use_background_image': True,\n",
        "  u'protected': False,\n",
        "  u'screen_name': u'MisterDomingue',\n",
        "  u'statuses_count': 5272,\n",
        "  u'time_zone': u'Central Time (US & Canada)',\n",
        "  u'url': u'https://t.co/s8nKTNf6MA',\n",
        "  u'utc_offset': -18000,\n",
        "  u'verified': False}}"
       ]
      }
     ],
     "prompt_number": 73
    },
    {
     "cell_type": "code",
     "collapsed": false,
     "input": [
      "fb_mention_tweets = []\n",
      "for status in fb_mentions['statuses']:\n",
      "    fb_mention_tweets.append(status['text'])"
     ],
     "language": "python",
     "metadata": {},
     "outputs": [],
     "prompt_number": 74
    },
    {
     "cell_type": "code",
     "collapsed": false,
     "input": [
      "fb_mention_tweets[0:5]"
     ],
     "language": "python",
     "metadata": {},
     "outputs": [
      {
       "metadata": {},
       "output_type": "pyout",
       "prompt_number": 75,
       "text": [
        "[u'RT @usnews: China unblocks @Twitter, @Facebook in part of Shanghai http://t.co/m9L1KJlJvQ',\n",
        " u'China unblocks @Twitter, @Facebook in part of Shanghai http://t.co/m9L1KJlJvQ',\n",
        " u'RT @Half: .@ChelseaClinton is answering your #CGI2013 Qs about advancing girls and women + more now on @Facebook: http://t.co/OnmF4J00pa',\n",
        " u'.@ChelseaClinton is answering your #CGI2013 Qs about advancing girls and women + more on @Facebook: http://t.co/ON2MrKcVKm cc @GirlsWhoCode',\n",
        " u'RT @Half: .@ChelseaClinton is answering your #CGI2013 Qs about advancing girls and women + more now on @Facebook: http://t.co/OnmF4J00pa']"
       ]
      }
     ],
     "prompt_number": 75
    },
    {
     "cell_type": "code",
     "collapsed": false,
     "input": [
      "fb_neg_tweets = t.search.tweets(q='facebook -\"www.facebook\" -@facebook :(',lang='en',result_type='recent',count=100)"
     ],
     "language": "python",
     "metadata": {},
     "outputs": [],
     "prompt_number": 80
    },
    {
     "cell_type": "code",
     "collapsed": false,
     "input": [
      "fb_neg_tweet_text = []\n",
      "for status in fb_neg_tweets['statuses']:\n",
      "    fb_neg_tweet_text.append(status['text'])"
     ],
     "language": "python",
     "metadata": {},
     "outputs": [],
     "prompt_number": 81
    },
    {
     "cell_type": "code",
     "collapsed": false,
     "input": [
      "fb_neg_tweet_text[0:5]"
     ],
     "language": "python",
     "metadata": {},
     "outputs": [
      {
       "metadata": {},
       "output_type": "pyout",
       "prompt_number": 82,
       "text": [
        "[u'Bad news! My hands gave up. :-( \\n\\nGet your synthetic locks from Rebel Locks https://t.co/inuXXtCsVp... http://t.co/NobkWi9Cv3',\n",
        " u'Mums share this :( http://t.co/8lNRLdDqbj',\n",
        " u'Facebook peeps though :( Eish! \\u201c@miss_concept: ... http://t.co/msuQSBV61u\\u201d',\n",
        " u'unfortunately gravity canyon is closed today due to river conditions exceeding our safe working limits.......STINK :( http://t.co/36lh3qrPSR',\n",
        " u'what a fab Cadbury beaded Chocolate Bookmark.. *I NEED CHOCOLATE* :( LOL ~Wonder-Women~ xxx http://t.co/d0bsA27CEb']"
       ]
      }
     ],
     "prompt_number": 82
    },
    {
     "cell_type": "code",
     "collapsed": false,
     "input": [
      "neg_words = ['hate','terrible','awful','worse','worst','difficult','struggle','pain','annoy']\n",
      "pos_words = ['love','like','great','easy','awesome','brilliant','interesting','fantastic','wonderful','amazing','stunning','charming']"
     ],
     "language": "python",
     "metadata": {},
     "outputs": []
    },
    {
     "cell_type": "code",
     "collapsed": false,
     "input": [
      "fb_neg_tweets = t.search.tweets(q='facebook -\"www.facebook\" -@facebook hate',lang='en',result_type='recent',count=100)"
     ],
     "language": "python",
     "metadata": {},
     "outputs": [],
     "prompt_number": 83
    },
    {
     "cell_type": "code",
     "collapsed": false,
     "input": [
      "fb_neg_tweet_text = []\n",
      "for status in fb_neg_tweets['statuses']:\n",
      "    fb_neg_tweet_text.append(status['text'])"
     ],
     "language": "python",
     "metadata": {},
     "outputs": [],
     "prompt_number": 84
    },
    {
     "cell_type": "code",
     "collapsed": false,
     "input": [
      "fb_neg_tweet_text[0:5]"
     ],
     "language": "python",
     "metadata": {},
     "outputs": [
      {
       "metadata": {},
       "output_type": "pyout",
       "prompt_number": 85,
       "text": [
        "[u'Encyclopedia salesmen hate Wikipedia.\\nAnd newspapers hate Craigslist.\\nAnd music stores hate iTunes.\\nAnd used... http://t.co/17CXFsp5KW',\n",
        " u\"Don't you hate those Catch 22's?\\n\\nIn working on getting the non-profit started, we are up to gaining the Fed Tax... http://t.co/GfS0XP7XvY\",\n",
        " u\"When I was at church they taught me something else\\nIf you preach hate at the service those words aren't anointed... http://t.co/l7yPyLkX9L\",\n",
        " u'Ye that love the LORD, hate evil: he preserveth the souls of his saints; he delivereth them out of the hand of... http://t.co/tpnrKFg7Qz',\n",
        " u\"Facebook I hate you and you're creeping me out. http://t.co/xePD4nI76k\"]"
       ]
      }
     ],
     "prompt_number": 85
    },
    {
     "cell_type": "code",
     "collapsed": false,
     "input": [
      "fb_neg_tweets = t.search.tweets(q='\"hate facebook\"',lang='en',result_type='recent',count=100)"
     ],
     "language": "python",
     "metadata": {},
     "outputs": [],
     "prompt_number": 86
    },
    {
     "cell_type": "code",
     "collapsed": false,
     "input": [
      "fb_neg_tweet_text = []\n",
      "for status in fb_neg_tweets['statuses']:\n",
      "    fb_neg_tweet_text.append(status['text'])"
     ],
     "language": "python",
     "metadata": {},
     "outputs": [],
     "prompt_number": 87
    },
    {
     "cell_type": "code",
     "collapsed": false,
     "input": [
      "fb_neg_tweet_text[0:5]"
     ],
     "language": "python",
     "metadata": {},
     "outputs": [
      {
       "metadata": {},
       "output_type": "pyout",
       "prompt_number": 88,
       "text": [
        "[u'I like how no one wished me a happy birthday in real life but everyone does it on Facebook.. I hate Facebook',\n",
        " u'El oh el...I just went on Facebook and friend requested people. I hate Facebook lol',\n",
        " u'I honestly hate Facebook now, just full of attention seeking mogoloids,who write up the biggest loads of donkey bollocks just to get LIKES!!',\n",
        " u'Hate Facebook for many reasons, only keep it for events',\n",
        " u'I fuckin hate facebook']"
       ]
      }
     ],
     "prompt_number": 88
    },
    {
     "cell_type": "code",
     "collapsed": false,
     "input": [
      "fb_pos_tweets = t.search.tweets(q='\"love facebook\"',lang='en',result_type='recent',count=100)"
     ],
     "language": "python",
     "metadata": {},
     "outputs": [],
     "prompt_number": 95
    },
    {
     "cell_type": "code",
     "collapsed": false,
     "input": [
      "fb_pos_tweet_text = []\n",
      "for status in fb_pos_tweets['statuses']:\n",
      "    fb_pos_tweet_text.append(status['text'])"
     ],
     "language": "python",
     "metadata": {},
     "outputs": [],
     "prompt_number": 96
    },
    {
     "cell_type": "code",
     "collapsed": false,
     "input": [
      "fb_pos_tweet_text[0:5]"
     ],
     "language": "python",
     "metadata": {},
     "outputs": [
      {
       "metadata": {},
       "output_type": "pyout",
       "prompt_number": 97,
       "text": [
        "[u'Old people love Facebook',\n",
        " u'Merry Christmas Flickr, Love Facebook http://t.co/jH0yqKKz7U #photography #arts',\n",
        " u'If You Run naked around a tree at about 87 km/h there is a possibility of fucking your self or just horny : http://t.co/aZHtbFyO63',\n",
        " u'RT @DontFollowStu: Love Facebook me http://t.co/YkR6owgbeN',\n",
        " u'Love Facebook me http://t.co/YkR6owgbeN']"
       ]
      }
     ],
     "prompt_number": 97
    },
    {
     "cell_type": "code",
     "collapsed": false,
     "input": [
      "import numpy as np\n",
      "import pandas as pd"
     ],
     "language": "python",
     "metadata": {},
     "outputs": [],
     "prompt_number": 98
    },
    {
     "cell_type": "code",
     "collapsed": false,
     "input": [
      "timestring = fb_pos_tweets['statuses'][0]['created_at']"
     ],
     "language": "python",
     "metadata": {},
     "outputs": [],
     "prompt_number": 99
    },
    {
     "cell_type": "code",
     "collapsed": false,
     "input": [
      "print timestring"
     ],
     "language": "python",
     "metadata": {},
     "outputs": [
      {
       "output_type": "stream",
       "stream": "stdout",
       "text": [
        "Tue Sep 24 23:04:13 +0000 2013\n"
       ]
      }
     ],
     "prompt_number": 100
    },
    {
     "cell_type": "code",
     "collapsed": false,
     "input": [
      "from dateutil import parser as dateparser"
     ],
     "language": "python",
     "metadata": {},
     "outputs": [],
     "prompt_number": 101
    },
    {
     "cell_type": "code",
     "collapsed": false,
     "input": [
      "tweettime = dateparser.parse(timestring)"
     ],
     "language": "python",
     "metadata": {},
     "outputs": [],
     "prompt_number": 102
    },
    {
     "cell_type": "code",
     "collapsed": false,
     "input": [
      "tweettime"
     ],
     "language": "python",
     "metadata": {},
     "outputs": [
      {
       "metadata": {},
       "output_type": "pyout",
       "prompt_number": 103,
       "text": [
        "datetime.datetime(2013, 9, 24, 23, 4, 13, tzinfo=tzutc())"
       ]
      }
     ],
     "prompt_number": 103
    },
    {
     "cell_type": "code",
     "collapsed": false,
     "input": [
      "pos_times = []\n",
      "for status in fb_pos_tweets['statuses']:\n",
      "    pos_times.append(dateparser.parse(status['created_at']))"
     ],
     "language": "python",
     "metadata": {},
     "outputs": [],
     "prompt_number": 111
    },
    {
     "cell_type": "code",
     "collapsed": false,
     "input": [
      "pos_times.sort()"
     ],
     "language": "python",
     "metadata": {},
     "outputs": [],
     "prompt_number": 115
    },
    {
     "cell_type": "code",
     "collapsed": false,
     "input": [
      "neg_times = []\n",
      "for status in fb_neg_tweets['statuses']:\n",
      "    neg_times.append(dateparser.parse(status['created_at']))"
     ],
     "language": "python",
     "metadata": {},
     "outputs": [],
     "prompt_number": 117
    },
    {
     "cell_type": "code",
     "collapsed": false,
     "input": [
      "neg_times.sort()"
     ],
     "language": "python",
     "metadata": {},
     "outputs": [],
     "prompt_number": 118
    },
    {
     "cell_type": "code",
     "collapsed": false,
     "input": [
      "tdeltas = np.empty([2,len(fb_pos_tweets['statuses'])-1])"
     ],
     "language": "python",
     "metadata": {},
     "outputs": [],
     "prompt_number": 119
    },
    {
     "cell_type": "code",
     "collapsed": false,
     "input": [
      "tstart = False\n",
      "idx = 0\n",
      "for tweettime in pos_times:\n",
      "    if not tstart:\n",
      "        tstart = tweettime\n",
      "    else:\n",
      "        tdelta = tweettime - tstart\n",
      "        tdeltas[0,idx] = tdelta.seconds\n",
      "        tstart = tweettime\n",
      "        idx += 1  "
     ],
     "language": "python",
     "metadata": {},
     "outputs": [],
     "prompt_number": 123
    },
    {
     "cell_type": "code",
     "collapsed": false,
     "input": [
      "tstart = False\n",
      "idx = 0\n",
      "for tweettime in neg_times:\n",
      "    if not tstart:\n",
      "        tstart = tweettime\n",
      "    else:\n",
      "        tdelta = tweettime - tstart\n",
      "        tdeltas[1,idx] = tdelta.seconds\n",
      "        tstart = tweettime\n",
      "        idx += 1  "
     ],
     "language": "python",
     "metadata": {},
     "outputs": [],
     "prompt_number": 126
    },
    {
     "cell_type": "code",
     "collapsed": false,
     "input": [
      "np.mean(tdeltas, axis=1)"
     ],
     "language": "python",
     "metadata": {},
     "outputs": [
      {
       "metadata": {},
       "output_type": "pyout",
       "prompt_number": 127,
       "text": [
        "array([ 344.14141414,   76.13131313])"
       ]
      }
     ],
     "prompt_number": 127
    },
    {
     "cell_type": "code",
     "collapsed": false,
     "input": [
      "import scipy as sci"
     ],
     "language": "python",
     "metadata": {},
     "outputs": [],
     "prompt_number": 128
    },
    {
     "cell_type": "code",
     "collapsed": false,
     "input": [
      "from scipy import stats"
     ],
     "language": "python",
     "metadata": {},
     "outputs": [],
     "prompt_number": 129
    },
    {
     "cell_type": "code",
     "collapsed": false,
     "input": [
      "stats.ttest_ind(tdeltas[0,:],tdeltas[1,:])"
     ],
     "language": "python",
     "metadata": {},
     "outputs": [
      {
       "metadata": {},
       "output_type": "pyout",
       "prompt_number": 130,
       "text": [
        "(array(9.156586321325676), 7.1690872874428135e-17)"
       ]
      }
     ],
     "prompt_number": 130
    },
    {
     "cell_type": "code",
     "collapsed": false,
     "input": [
      "means = np.mean(tdeltas, axis=1)"
     ],
     "language": "python",
     "metadata": {},
     "outputs": [],
     "prompt_number": 131
    },
    {
     "cell_type": "code",
     "collapsed": false,
     "input": [
      "stds= np.std(tdeltas, axis=1)"
     ],
     "language": "python",
     "metadata": {},
     "outputs": [],
     "prompt_number": 132
    },
    {
     "cell_type": "code",
     "collapsed": false,
     "input": [
      "import matplotlib.pyplot as plt"
     ],
     "language": "python",
     "metadata": {},
     "outputs": [],
     "prompt_number": 133
    },
    {
     "cell_type": "code",
     "collapsed": false,
     "input": [
      "np.arange(2)"
     ],
     "language": "python",
     "metadata": {},
     "outputs": [
      {
       "metadata": {},
       "output_type": "pyout",
       "prompt_number": 135,
       "text": [
        "array([0, 1])"
       ]
      }
     ],
     "prompt_number": 135
    },
    {
     "cell_type": "code",
     "collapsed": false,
     "input": [
      "bar_width = 0.35\n",
      "opacity = 0.5\n",
      "error_config = {'ecolor':'0.3'}\n",
      "rects = plt.bar([0.5,1.5], means, bar_width, bottom=0, alpha=opacity, color='b', yerr=stds, error_kw=error_config)\n",
      "plt.xlabel('Sentiment')\n",
      "plt.ylabel('Secs between posts')\n",
      "plt.xticks([0.5,1.5], ('Positive','Negative'))\n",
      "plt.show()"
     ],
     "language": "python",
     "metadata": {},
     "outputs": [],
     "prompt_number": 137
    },
    {
     "cell_type": "code",
     "collapsed": false,
     "input": [],
     "language": "python",
     "metadata": {},
     "outputs": []
    }
   ],
   "metadata": {}
  }
 ]
}
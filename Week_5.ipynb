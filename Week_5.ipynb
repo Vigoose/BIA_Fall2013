{
 "metadata": {
  "name": ""
 },
 "nbformat": 3,
 "nbformat_minor": 0,
 "worksheets": [
  {
   "cells": [
    {
     "cell_type": "code",
     "collapsed": false,
     "input": [
      "import twitter as tw\n",
      "OAUTH_TOKEN='19202628-uzTh3h9JB6pM07JaB4fqA4oHnWffsd1blEwApA'\n",
      "OAUTH_SECRET='bpP3m3anqew88u3MGAWPqFGElUv5RG4zFkEUDkAD2A'\n",
      "CONSUMER_KEY='HrI9pkJWwsdTL1jv9fDmg'\n",
      "CONSUMER_SECRET='xr0nXTJytnMdN7XIsoUIGNErJ5QuPJYv92VfBJnX8XI'"
     ],
     "language": "python",
     "metadata": {},
     "outputs": [],
     "prompt_number": 45
    },
    {
     "cell_type": "code",
     "collapsed": false,
     "input": [
      "t = tw.Twitter(auth=tw.OAuth(OAUTH_TOKEN, OAUTH_SECRET,\n",
      "                       CONSUMER_KEY, CONSUMER_SECRET))"
     ],
     "language": "python",
     "metadata": {},
     "outputs": [],
     "prompt_number": 46
    },
    {
     "cell_type": "code",
     "collapsed": false,
     "input": [
      "fb_mentions = t.search.tweets(q='@facebook',lang='en',result_type='recent',count=100)"
     ],
     "language": "python",
     "metadata": {},
     "outputs": [],
     "prompt_number": 47
    },
    {
     "cell_type": "code",
     "collapsed": false,
     "input": [
      "print fb_mentions.keys()"
     ],
     "language": "python",
     "metadata": {},
     "outputs": []
    },
    {
     "cell_type": "code",
     "collapsed": false,
     "input": [
      "fb_mentions['search_metadata']"
     ],
     "language": "python",
     "metadata": {},
     "outputs": []
    },
    {
     "cell_type": "code",
     "collapsed": false,
     "input": [
      "fb_mentions['statuses'][0]"
     ],
     "language": "python",
     "metadata": {},
     "outputs": []
    },
    {
     "cell_type": "code",
     "collapsed": false,
     "input": [
      "fb_mention_tweets = []\n",
      "for status in fb_mentions['statuses']:\n",
      "    fb_mention_tweets.append(status['text'])"
     ],
     "language": "python",
     "metadata": {},
     "outputs": []
    },
    {
     "cell_type": "code",
     "collapsed": false,
     "input": [
      "fb_mention_tweets[0:5]"
     ],
     "language": "python",
     "metadata": {},
     "outputs": []
    },
    {
     "cell_type": "code",
     "collapsed": false,
     "input": [
      "fb_neg_tweets = t.search.tweets(q='facebook -\"www.facebook\" -@facebook :(',lang='en',result_type='recent',count=100)"
     ],
     "language": "python",
     "metadata": {},
     "outputs": []
    },
    {
     "cell_type": "code",
     "collapsed": false,
     "input": [
      "fb_neg_tweet_text = []\n",
      "for status in fb_neg_tweets['statuses']:\n",
      "    fb_neg_tweet_text.append(status['text'])"
     ],
     "language": "python",
     "metadata": {},
     "outputs": []
    },
    {
     "cell_type": "code",
     "collapsed": false,
     "input": [
      "fb_neg_tweet_text[0:5]"
     ],
     "language": "python",
     "metadata": {},
     "outputs": []
    },
    {
     "cell_type": "code",
     "collapsed": false,
     "input": [
      "neg_words = ['hate','terrible','awful','worse','worst','difficult','struggle','pain','annoy']\n",
      "pos_words = ['love','like','great','easy','awesome','brilliant','interesting','fantastic','wonderful','amazing','stunning','charming']"
     ],
     "language": "python",
     "metadata": {},
     "outputs": []
    },
    {
     "cell_type": "code",
     "collapsed": false,
     "input": [
      "fb_neg_tweets = t.search.tweets(q='facebook -\"www.facebook\" -@facebook hate',lang='en',result_type='recent',count=100)"
     ],
     "language": "python",
     "metadata": {},
     "outputs": []
    },
    {
     "cell_type": "code",
     "collapsed": false,
     "input": [
      "fb_neg_tweet_text = []\n",
      "for status in fb_neg_tweets['statuses']:\n",
      "    fb_neg_tweet_text.append(status['text'])"
     ],
     "language": "python",
     "metadata": {},
     "outputs": []
    },
    {
     "cell_type": "code",
     "collapsed": false,
     "input": [
      "fb_neg_tweet_text[0:5]"
     ],
     "language": "python",
     "metadata": {},
     "outputs": []
    },
    {
     "cell_type": "code",
     "collapsed": false,
     "input": [
      "fb_neg_tweets = t.search.tweets(q='\"hate facebook\"',lang='en',result_type='recent',count=100)"
     ],
     "language": "python",
     "metadata": {},
     "outputs": [],
     "prompt_number": 48
    },
    {
     "cell_type": "code",
     "collapsed": false,
     "input": [
      "fb_neg_tweet_text = []\n",
      "for status in fb_neg_tweets['statuses']:\n",
      "    fb_neg_tweet_text.append(status['text'])"
     ],
     "language": "python",
     "metadata": {},
     "outputs": [],
     "prompt_number": 49
    },
    {
     "cell_type": "code",
     "collapsed": false,
     "input": [
      "fb_neg_tweet_text[0:5]"
     ],
     "language": "python",
     "metadata": {},
     "outputs": [
      {
       "metadata": {},
       "output_type": "pyout",
       "prompt_number": 50,
       "text": [
        "[u'Do you HATE Facebook? FAV= YES  RT=NO',\n",
        " u\"We know you probably hate Facebook but if you're going to keep using it anyway, you might as well 'Like' our page! http://t.co/uTKZtGacfL\",\n",
        " u'#ThingsISayToMuch I HATE Facebook... But then I go back to it.',\n",
        " u'@Ciadenite @SarcasticFlame I hate Facebook. It is so bordering! Twitter is amazingly awesome!!!!!',\n",
        " u'I hate facebook']"
       ]
      }
     ],
     "prompt_number": 50
    },
    {
     "cell_type": "code",
     "collapsed": false,
     "input": [
      "fb_pos_tweets = t.search.tweets(q='\"love facebook\"',lang='en',result_type='recent',count=100)"
     ],
     "language": "python",
     "metadata": {},
     "outputs": [],
     "prompt_number": 51
    },
    {
     "cell_type": "code",
     "collapsed": false,
     "input": [
      "fb_pos_tweet_text = []\n",
      "for status in fb_pos_tweets['statuses']:\n",
      "    fb_pos_tweet_text.append(status['text'])"
     ],
     "language": "python",
     "metadata": {},
     "outputs": [],
     "prompt_number": 52
    },
    {
     "cell_type": "code",
     "collapsed": false,
     "input": [
      "fb_pos_tweet_text[0:5]"
     ],
     "language": "python",
     "metadata": {},
     "outputs": [
      {
       "metadata": {},
       "output_type": "pyout",
       "prompt_number": 53,
       "text": [
        "[u'Ok I love facebook and my Mimi http://t.co/pPrP2fluI0',\n",
        " u'Ion care I love Facebook. People so damn funny on there.\\U0001f602',\n",
        " u'I will always keep searching for the meaning of life and my fucking keys',\n",
        " u'\"Awww mannnnn, I love Facebook\" -my dad',\n",
        " u'Love is... an endless mystery, for it has nothing else to explain it http://t.co/0cyKie3taW']"
       ]
      }
     ],
     "prompt_number": 53
    },
    {
     "cell_type": "code",
     "collapsed": false,
     "input": [
      "import numpy as np\n",
      "import pandas as pd"
     ],
     "language": "python",
     "metadata": {},
     "outputs": [],
     "prompt_number": 55
    },
    {
     "cell_type": "code",
     "collapsed": false,
     "input": [
      "timestring = fb_pos_tweets['statuses'][0]['created_at']"
     ],
     "language": "python",
     "metadata": {},
     "outputs": []
    },
    {
     "cell_type": "code",
     "collapsed": false,
     "input": [
      "print timestring"
     ],
     "language": "python",
     "metadata": {},
     "outputs": []
    },
    {
     "cell_type": "code",
     "collapsed": false,
     "input": [
      "from dateutil import parser as dateparser"
     ],
     "language": "python",
     "metadata": {},
     "outputs": [],
     "prompt_number": 54
    },
    {
     "cell_type": "code",
     "collapsed": false,
     "input": [
      "tweettime = dateparser.parse(timestring)"
     ],
     "language": "python",
     "metadata": {},
     "outputs": []
    },
    {
     "cell_type": "code",
     "collapsed": false,
     "input": [
      "tweettime"
     ],
     "language": "python",
     "metadata": {},
     "outputs": []
    },
    {
     "cell_type": "code",
     "collapsed": false,
     "input": [
      "pos_times = []\n",
      "for status in fb_pos_tweets['statuses']:\n",
      "    pos_times.append(dateparser.parse(status['created_at']))"
     ],
     "language": "python",
     "metadata": {},
     "outputs": [],
     "prompt_number": 56
    },
    {
     "cell_type": "code",
     "collapsed": false,
     "input": [
      "pos_times.sort()"
     ],
     "language": "python",
     "metadata": {},
     "outputs": [],
     "prompt_number": 57
    },
    {
     "cell_type": "code",
     "collapsed": false,
     "input": [
      "neg_times = []\n",
      "for status in fb_neg_tweets['statuses']:\n",
      "    neg_times.append(dateparser.parse(status['created_at']))"
     ],
     "language": "python",
     "metadata": {},
     "outputs": [],
     "prompt_number": 58
    },
    {
     "cell_type": "code",
     "collapsed": false,
     "input": [
      "neg_times.sort()"
     ],
     "language": "python",
     "metadata": {},
     "outputs": [],
     "prompt_number": 59
    },
    {
     "cell_type": "code",
     "collapsed": false,
     "input": [
      "tdeltas = np.empty([2,len(fb_pos_tweets['statuses'])-1])"
     ],
     "language": "python",
     "metadata": {},
     "outputs": [],
     "prompt_number": 60
    },
    {
     "cell_type": "code",
     "collapsed": false,
     "input": [
      "tstart = False\n",
      "idx = 0\n",
      "for tweettime in pos_times:\n",
      "    if not tstart:\n",
      "        tstart = tweettime\n",
      "    else:\n",
      "        tdelta = tweettime - tstart\n",
      "        tdeltas[0,idx] = tdelta.seconds\n",
      "        tstart = tweettime\n",
      "        idx += 1  "
     ],
     "language": "python",
     "metadata": {},
     "outputs": [],
     "prompt_number": 61
    },
    {
     "cell_type": "code",
     "collapsed": false,
     "input": [
      "tstart = False\n",
      "idx = 0\n",
      "for tweettime in neg_times:\n",
      "    if not tstart:\n",
      "        tstart = tweettime\n",
      "    else:\n",
      "        tdelta = tweettime - tstart\n",
      "        tdeltas[1,idx] = tdelta.seconds\n",
      "        tstart = tweettime\n",
      "        idx += 1  "
     ],
     "language": "python",
     "metadata": {},
     "outputs": [],
     "prompt_number": 62
    },
    {
     "cell_type": "code",
     "collapsed": false,
     "input": [
      "np.mean(tdeltas, axis=1)"
     ],
     "language": "python",
     "metadata": {},
     "outputs": [
      {
       "metadata": {},
       "output_type": "pyout",
       "prompt_number": 63,
       "text": [
        "array([ 289.95959596,   81.98989899])"
       ]
      }
     ],
     "prompt_number": 63
    },
    {
     "cell_type": "code",
     "collapsed": false,
     "input": [
      "import scipy as sci"
     ],
     "language": "python",
     "metadata": {},
     "outputs": []
    },
    {
     "cell_type": "code",
     "collapsed": false,
     "input": [
      "from scipy import stats"
     ],
     "language": "python",
     "metadata": {},
     "outputs": []
    },
    {
     "cell_type": "code",
     "collapsed": false,
     "input": [
      "stats.ttest_ind(tdeltas[0,:],tdeltas[1,:])"
     ],
     "language": "python",
     "metadata": {},
     "outputs": []
    },
    {
     "cell_type": "code",
     "collapsed": false,
     "input": [
      "means = np.mean(tdeltas, axis=1)"
     ],
     "language": "python",
     "metadata": {},
     "outputs": [],
     "prompt_number": 64
    },
    {
     "cell_type": "code",
     "collapsed": false,
     "input": [
      "means_dict = {'Positive':means[0],'Negative':means[1]}"
     ],
     "language": "python",
     "metadata": {},
     "outputs": [],
     "prompt_number": 68
    },
    {
     "cell_type": "code",
     "collapsed": false,
     "input": [
      "stds= np.std(tdeltas, axis=1)"
     ],
     "language": "python",
     "metadata": {},
     "outputs": []
    },
    {
     "cell_type": "code",
     "collapsed": false,
     "input": [
      "import matplotlib.pyplot as plt"
     ],
     "language": "python",
     "metadata": {},
     "outputs": []
    },
    {
     "cell_type": "code",
     "collapsed": false,
     "input": [
      "np.arange(2)"
     ],
     "language": "python",
     "metadata": {},
     "outputs": []
    },
    {
     "cell_type": "code",
     "collapsed": false,
     "input": [
      "bar_width = 0.35\n",
      "opacity = 0.5\n",
      "error_config = {'ecolor':'0.3'}\n",
      "rects = plt.bar([0.5,1.5], means, bar_width, bottom=0, alpha=opacity, color='b', yerr=stds, error_kw=error_config)\n",
      "plt.xlabel('Sentiment')\n",
      "plt.ylabel('Secs between posts')\n",
      "plt.xticks([0.5,1.5], ('Positive','Negative'))\n",
      "plt.show()"
     ],
     "language": "python",
     "metadata": {},
     "outputs": []
    },
    {
     "cell_type": "code",
     "collapsed": false,
     "input": [
      "import vincent\n",
      "vincent.core.initialize_notebook()"
     ],
     "language": "python",
     "metadata": {},
     "outputs": [
      {
       "javascript": [
        "$.getScript(\"http://d3js.org/d3.v3.min.js\", function() {\n",
        "        $.getScript(\"http://trifacta.github.com/vega/vega.js\", function() {\n",
        "            $([IPython.events]).trigger(\"vega_loaded.vincent\");\n",
        "        })\n",
        "    });"
       ],
       "metadata": {},
       "output_type": "display_data",
       "text": [
        "<IPython.core.display.Javascript at 0x10fdb22d0>"
       ]
      }
     ],
     "prompt_number": 66
    },
    {
     "cell_type": "code",
     "collapsed": true,
     "input": [
      "bar = vincent.Bar(means_dict)\n",
      "bar.axis_titles(x='Valence', y='Inter-tweet time')\n",
      "bar.scales['x'].padding = 0.2\n",
      "bar.height=300\n",
      "bar.width=300\n",
      "bar.display()"
     ],
     "language": "python",
     "metadata": {},
     "outputs": [
      {
       "html": [
        "<div id=\"vis52840\"></div>"
       ],
       "metadata": {},
       "output_type": "display_data",
       "text": [
        "<IPython.core.display.HTML at 0x10fb597d0>"
       ]
      },
      {
       "javascript": [
        "\n",
        "( function() {\n",
        "  var _do_plot = function() {\n",
        "    if ( typeof vg == 'undefined' ) {\n",
        "      $([IPython.events]).on(\"vega_loaded.vincent\", _do_plot);\n",
        "      return;\n",
        "    }\n",
        "    vg.parse.spec({\"axes\": [{\"scale\": \"x\", \"title\": \"Valence\", \"type\": \"x\"}, {\"scale\": \"y\", \"title\": \"Inter-tweet time\", \"type\": \"y\"}], \"data\": [{\"name\": \"table\", \"values\": [{\"col\": \"data\", \"idx\": \"Negative\", \"val\": 81.98989898989899}, {\"col\": \"data\", \"idx\": \"Positive\", \"val\": 289.95959595959596}]}], \"height\": 300, \"legends\": [], \"marks\": [{\"from\": {\"data\": \"table\"}, \"properties\": {\"enter\": {\"width\": {\"band\": true, \"offset\": -1, \"scale\": \"x\"}, \"x\": {\"field\": \"data.idx\", \"scale\": \"x\"}, \"y\": {\"field\": \"data.val\", \"scale\": \"y\"}, \"y2\": {\"scale\": \"y\", \"value\": 0}}, \"update\": {\"fill\": {\"value\": \"steelblue\"}}}, \"type\": \"rect\"}], \"padding\": {\"bottom\": 50, \"left\": 50, \"right\": 100, \"top\": 10}, \"scales\": [{\"domain\": {\"data\": \"table\", \"field\": \"data.idx\"}, \"name\": \"x\", \"padding\": 0.2, \"range\": \"width\", \"type\": \"ordinal\"}, {\"domain\": {\"data\": \"table\", \"field\": \"data.val\"}, \"name\": \"y\", \"nice\": true, \"range\": \"height\"}], \"width\": 300}, function(chart) {\n",
        "      chart({el: \"#vis52840\"}).update();\n",
        "    });\n",
        "  };\n",
        "  _do_plot();\n",
        "})();\n"
       ],
       "metadata": {},
       "output_type": "display_data",
       "text": [
        "<IPython.core.display.Javascript at 0x10fb59790>"
       ]
      }
     ],
     "prompt_number": 69
    },
    {
     "cell_type": "code",
     "collapsed": false,
     "input": [
      "bar.to_json('intertweet.json', html_out=True, html_path='intertweet.html')"
     ],
     "language": "python",
     "metadata": {},
     "outputs": [],
     "prompt_number": 70
    },
    {
     "cell_type": "code",
     "collapsed": false,
     "input": [],
     "language": "python",
     "metadata": {},
     "outputs": []
    }
   ],
   "metadata": {}
  }
 ]
}